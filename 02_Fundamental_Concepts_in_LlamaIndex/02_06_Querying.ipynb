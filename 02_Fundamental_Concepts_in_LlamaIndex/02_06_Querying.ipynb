{
 "cells": [
  {
   "cell_type": "code",
   "execution_count": null,
   "metadata": {},
   "outputs": [],
   "source": [
    "%%capture\n",
    "!pip install llama-index==0.10.37 cohere==5.5.0 openai==1.30.1 llama-index-embeddings-openai==0.1.9 llama-index-llms-cohere==0.2.0 qdrant-client==1.9.1 llama-index-vector-stores-qdrant==0.2.8 "
   ]
  },
  {
   "cell_type": "code",
   "execution_count": 2,
   "metadata": {},
   "outputs": [
    {
     "data": {
      "text/plain": [
       "True"
      ]
     },
     "execution_count": 2,
     "metadata": {},
     "output_type": "execute_result"
    }
   ],
   "source": [
    "import os\n",
    "\n",
    "from getpass import getpass\n",
    "import nest_asyncio\n",
    "\n",
    "from dotenv import load_dotenv\n",
    "\n",
    "nest_asyncio.apply()\n",
    "\n",
    "load_dotenv()"
   ]
  },
  {
   "cell_type": "code",
   "execution_count": 3,
   "metadata": {},
   "outputs": [],
   "source": [
    "CO_API_KEY = os.environ['CO_API_KEY'] or getpass(\"Enter your Cohere API key: \")"
   ]
  },
  {
   "cell_type": "code",
   "execution_count": 4,
   "metadata": {},
   "outputs": [],
   "source": [
    "OPENAI_API_KEY = os.environ['OPENAI_API_KEY'] or getpass(\"Enter your OpenAI API key: \")"
   ]
  },
  {
   "cell_type": "code",
   "execution_count": 5,
   "metadata": {},
   "outputs": [],
   "source": [
    "QDRANT_URL = os.environ['QDRANT_URL'] or getpass(\"Enter your Qdrant URL:\")"
   ]
  },
  {
   "cell_type": "code",
   "execution_count": 6,
   "metadata": {},
   "outputs": [],
   "source": [
    "QDRANT_API_KEY = os.environ['QDRANT_API_KEY'] or  getpass(\"Enter your Qdrant API Key:\")"
   ]
  },
  {
   "cell_type": "markdown",
   "metadata": {},
   "source": [
    "# Querying\n",
    "\n",
    "- 📊 Now that you've loaded your data and built an index, it's time to focus on the core of an LLM application: querying.\n",
    "\n",
    "- 🤖 Querying at its simplest involves making a prompt call to an LLM - this could be asking a question, requesting a summary, or giving more complex instructions.\n",
    "\n",
    "- 🔗 For more advanced uses, querying can include repeated or chained prompt calls to an LLM, or even a reasoning loop across multiple components.\n",
    "\n",
    "Let's first instantiate the `qdrant` vector store."
   ]
  },
  {
   "cell_type": "code",
   "execution_count": 11,
   "metadata": {},
   "outputs": [],
   "source": [
    "import qdrant_client\n",
    "from llama_index.embeddings.openai import OpenAIEmbedding\n",
    "from llama_index.core import VectorStoreIndex\n",
    "from llama_index.vector_stores.qdrant import QdrantVectorStore\n",
    "from llama_index.core import StorageContext\n",
    "\n",
    "# embed_model = OpenAIEmbedding(api_key=OPENAI_API_KEY, model_name=\"text-embedding-3-small\")\n",
    "\n",
    "# JC code\n",
    "from llama_index.embeddings.cohere import CohereEmbedding\n",
    "embed_model = CohereEmbedding(api_key=CO_API_KEY, model_name=\"embed-english-light-v3.0\")\n",
    "\n",
    "# initialize qdrant client\n",
    "client = qdrant_client.QdrantClient(\n",
    "    url=QDRANT_URL, \n",
    "    api_key=QDRANT_API_KEY,\n",
    ")\n",
    "\n",
    "vector_store = QdrantVectorStore(\n",
    "    client=client, \n",
    "    collection_name=\"it_can_be_done\",\n",
    "    embed_model=embed_model,\n",
    ")\n",
    "\n",
    "# assign qdrant vector store to storage context\n",
    "storage_context = StorageContext.from_defaults(\n",
    "    vector_store=vector_store,\n",
    "    )\n",
    "\n",
    "# load your index from stored vectors\n",
    "index = VectorStoreIndex.from_vector_store(\n",
    "    vector_store=vector_store, \n",
    "    embed_model=embed_model,\n",
    "    storage_context=storage_context\n",
    ")"
   ]
  },
  {
   "cell_type": "markdown",
   "metadata": {},
   "source": [
    "# 🧐 The `QueryEngine`\n",
    "\n",
    "A Query Engine is a higher-level construct that uses an `Index` (and by extension, a `Retriever`) to answer queries. \n",
    "\n",
    "It not only retrieves the relevant data but also processes it to generate a response to the query. A `Query Engine` uses the `Retriever` to fetch data and then applies additional logic to generate a response.\n",
    "\n",
    "Here's what happens under the hood:\n",
    "\n",
    "- 📚 **Retrieval**: Find and return the most relevant documents from the `Index` using strategies like \"top-k\" semantic retrieval.\n",
    "\n",
    "- 🔧 **Postprocessing**: Optionally rerank, transform, or filter retrieved Nodes, often based on specific metadata like keywords.\n",
    "\n",
    "- 🔄 **Response Synthesis**: Combine the query, relevant data, and prompt to generate a response from your LLM.\n",
    "\n",
    "Note, there are [a wide variety of Query Engines](https://github.com/run-llama/llama_index/tree/main/llama-index-core/llama_index/core/query_engine) available in LlamaIndex. We won't touch on all of them in this course, but I encourage you to explore what's available and think of how you may be able to use them.\n"
   ]
  },
  {
   "cell_type": "code",
   "execution_count": 39,
   "metadata": {},
   "outputs": [
    {
     "name": "stdout",
     "output_type": "stream",
     "text": [
      "I'm sorry, I couldn't find any information about the Abced Joshua Chen Daniel in the provided text."
     ]
    }
   ],
   "source": [
    "from llama_index.llms.cohere import Cohere\n",
    "\n",
    "# llm = Cohere(model=\"command-r-plus\")\n",
    "\n",
    "# JC code\n",
    "llm = Cohere(model=\"command-r-plus-08-2024\", api_key=CO_API_KEY, max_tokens=512)\n",
    "\n",
    "query_engine = index.as_query_engine(llm=llm, streaming=True)\n",
    "\n",
    "response = query_engine.query(\n",
    "    \"What do the Abced Joshua Chen Daniel believe?\"\n",
    ")\n",
    "\n",
    "response.print_response_stream()"
   ]
  },
  {
   "cell_type": "code",
   "execution_count": 40,
   "metadata": {},
   "outputs": [
    {
     "data": {
      "text/plain": [
       "\"I'm sorry, I couldn't find any information about the Abced Joshua Chen Daniel in the provided text.\""
      ]
     },
     "execution_count": 40,
     "metadata": {},
     "output_type": "execute_result"
    }
   ],
   "source": [
    "response.source_nodes\n",
    "response.response_txt"
   ]
  },
  {
   "cell_type": "code",
   "execution_count": 41,
   "metadata": {},
   "outputs": [
    {
     "data": {
      "text/plain": [
       "'Likely feeling pretty blue,\\r\\n  Being human, same as you,\\r\\n  But he was brave amid despair,\\r\\n  And Washington crossed the Delaware!\\r\\n\\r\\n  So when you\\'re with trouble beset,\\r\\n  And your spirits are soaking wet,\\r\\n  When all the sky with clouds is black,\\r\\n  Don\\'t lie down upon your back\\r\\n  And look at _them_. Just do the thing;\\r\\n  Though you are choked, still try to sing.\\r\\n  If times are dark, believe them fair,\\r\\n  And you will cross the Delaware!\\r\\n\\r\\n\\r\\n_Joseph Morris._\\r\\n\\r\\n\\r\\n\\r\\n\\r\\nRABBI BEN EZRA\\r\\n\\r\\n(SELECTED VERSES)\\r\\n\\r\\n\\r\\nTo some people success is everything, and the easier it is gained the\\r\\nbetter. To Browning success is nothing unless it is won by painful\\r\\neffort. What Browning values is struggle. Throes, rebuffs, even failure\\r\\nto achieve what we wish, are to be welcomed, for the effects of vigorous\\r\\nendeavor inweave themselves into our characters; moreover through\\r\\nstruggle we lift ourselves from the degradation into which the indolent\\r\\nfall. In the intervals of strife we may look back dispassionately upon\\r\\nwhat we have gone through, see where we erred and where we did wisely,\\r\\nwatch the workings of universal laws, and resolve to apply hereafter\\r\\nwhat we have hitherto learned.\\r\\n\\r\\n\\r\\n  Then, welcome each rebuff\\r\\n  That turns earth\\'s smoothness rough,\\r\\n  Each sting that bids nor sit nor stand but go!\\r\\n  Be our joys three-parts pain!\\r\\n  Strive, and hold cheap the strain;\\r\\n  Learn, nor account the pang; dare, never grudge the throe!\\r\\n\\r\\n  For thence,--a paradox\\r\\n  Which comforts while it mocks,--\\r\\n  Shall life succeed in that it seems to fail:\\r\\n  What I aspired to be,\\r\\n  And was not, comforts me:\\r\\n  A brute I might have been, but would not sink i\\' the scale.\\r\\n\\r\\n  So, still within this life,\\r\\n  Though lifted o\\'er its strife,\\r\\n  Let me discern, compare, pronounce at last,\\r\\n  \"This rage was right i\\' the main,\\r\\n  That acquiescence vain:\\r\\n  The Future I may face now I have proved the Past.\"\\r\\n\\r\\n  For more is not reserved\\r\\n  To man, with soul just nerved\\r\\n  To act to-morrow what he learns to-day:\\r\\n  Here, work enough to watch\\r\\n  The Master work, and catch\\r\\n  Hints of the proper craft, tricks of the tool\\'s true play.\\r\\n\\r\\n\\r\\n_Robert Browning._\\r\\n\\r\\n\\r\\n\\r\\n\\r\\nTO MELANCHOLY\\r\\n\\r\\n\\r\\nThe last invitation anybody would accept is \"Come, let us weep\\r\\ntogether.\" If we keep melancholy at our house, we should be careful to\\r\\nhave it under lock and key, so that no one will observe it.\\r\\n\\r\\n\\r\\n  Melancholy,\\r\\n  Melancholy,\\r\\n  I\\'ve no use for you, by Golly!\\r\\n  Yet I\\'m going to keep you hidden\\r\\n  In some chamber dark, forbidden,\\r\\n  Just as though you were a prize, sir,\\r\\n  Made of gold, and I a miser--\\r\\n  Not because I think you jolly,\\r\\n          Melancholy!\\r\\n  Not for that I mean to hoard you,\\r\\n  Keep you close and lodge and board you\\r\\n  As I would my sisters, brothers,\\r\\n  Cousins, aunts, and old grandmothers,\\r\\n  But that you shan\\'t bother others\\r\\n  With your sniffling, snuffling folly,\\r\\n          Howling,\\r\\n          Yowling,\\r\\n  Melancholy.\\r\\n\\r\\n\\r\\n_John Kendrick Bangs._\\r\\n\\r\\nFrom \"Songs of Cheer.\"\\r\\n\\r\\n\\r\\n\\r\\n\\r\\nTHE LION PATH\\r\\n\\r\\n\\r\\nAdmiral Dupont was explaining to Farragut his reasons for not taking his\\r\\nironclads into Charleston harbor. \"You haven\\'t given me the main reason\\r\\nyet,\" said Farragut. \"What\\'s that?\" \"You didn\\'t think you could do it.\"\\r\\nSo the man who thinks he can\\'t pass a lion, can\\'t. But the man who\\r\\nthinks he can, can. Indeed he oftentimes finds that the lion isn\\'t\\r\\nreally there at all.\\r\\n\\r\\n\\r\\n  I dare not!--\\r\\n               Look! the road is very dark--\\r\\n  The trees stir softly and the bushes shake,\\r\\n  The long grass rustles, and the darkness moves\\r\\n  Here! there! beyond--!\\r\\n  There\\'s something crept across the road just now!\\r\\n  And you would have me go--?\\r\\n  Go _there_, through that live darkness, hideous\\r\\n  With stir of crouching forms that wait to kill?\\r\\n  Ah, _look_! See there! and there! and there again!\\r\\n  Great yellow, glassy eyes, close to the ground!\\r\\n  Look!'"
      ]
     },
     "execution_count": 41,
     "metadata": {},
     "output_type": "execute_result"
    }
   ],
   "source": [
    "response.source_nodes[0].get_text()"
   ]
  },
  {
   "cell_type": "code",
   "execution_count": 13,
   "metadata": {},
   "outputs": [
    {
     "data": {
      "text/plain": [
       "'When God at first made Man,\\r\\n  Having a glass of blessings standing by;\\r\\n  Let us (said He) pour on him all we can:\\r\\n  Let the world\\'s riches, which disperséd lie,\\r\\n    Contract into a span.\\r\\n\\r\\n    So strength first made a way;\\r\\n  Then beauty flow\\'d, then wisdom, honor, pleasure\\r\\n  When almost all was out, God made a stay,\\r\\n  Perceiving that alone, of all His treasure,\\r\\n    Rest in the bottom lay.\\r\\n\\r\\n    For if I should (said He)\\r\\n  Bestow this jewel also on My creature,\\r\\n  He would adore My gifts instead of Me,\\r\\n  And rest in Nature, not the God of Nature.\\r\\n    So both should losers be.\\r\\n\\r\\n    Yet let him keep the rest,\\r\\n  But keep them with repining restlessness:\\r\\n  Let him be rich and weary, that at least,\\r\\n  If goodness lead him not, yet weariness\\r\\n    May toss him to My breast.\\r\\n\\r\\n\\r\\n_George Herbert._\\r\\n\\r\\n\\r\\n\\r\\n\\r\\nA PHILOSOPHER\\r\\n\\r\\n\\r\\n\"The web of our life is of mingled yarn, good and ill together,\" says\\r\\nShakespeare. It behooves us therefore to find the good and to make the\\r\\nbest of the ill. Two men were falling from an aeroplane. \"I\\'ll bet you\\r\\nfive dollars,\" said one, \"that I hit the ground first.\"\\r\\n\\r\\n\\r\\n    To take things as they be--\\r\\n    Thet\\'s my philosophy.\\r\\n  No use to holler, mope, or cuss--\\r\\n  If they was changed they might be wuss.\\r\\n\\r\\n    If rain is pourin\\' down,\\r\\n    An\\' lightnin\\' buzzin\\' roun\\',\\r\\n  I ain\\'t a-fearin\\' we\\'ll be hit,\\r\\n  But grin thet I ain\\'t out in it.\\r\\n\\r\\n    If I got deep in debt--\\r\\n    It hasn\\'t happened yet--\\r\\n  And owed a man two dollars, Gee!\\r\\n  Why I\\'d be glad it wasn\\'t three.\\r\\n\\r\\n    If some one come along,\\r\\n    And tried to do me wrong,\\r\\n  Why I should sort of take a whim\\r\\n  To thank the Lord I wasn\\'t him.\\r\\n\\r\\n    I never seen a night\\r\\n    So dark there wasn\\'t light\\r\\n  Somewheres about if I took care\\r\\n  To strike a match and find out where.\\r\\n\\r\\n\\r\\n_John Kendrick Bangs._\\r\\n\\r\\nFrom \"Songs of Cheer.\"\\r\\n\\r\\n\\r\\n\\r\\n\\r\\nTHE LIFE WITHOUT PASSION\\r\\n\\r\\n\\r\\nA person may feel deeply without shouting his emotion to the skies, or\\r\\nbe strong without seizing occasions to exhibit his strength. In truth we\\r\\ndistrust the power which makes too much a display of itself. Let it\\r\\nexert itself only to the point of securing the ends that are really\\r\\nnecessary. Restraint, self-control are in truth more mighty than might\\r\\nunshackled, just as a self-possessed opponent is more dangerous than a\\r\\nfrenzied one. Moreover, there is a moral side to the question. A good\\r\\nquality, if abused or allowed free sway, becomes a force for evil and\\r\\ndoes its owner more harm than if he had not possessed it in the first\\r\\nplace.\\r\\n\\r\\n\\r\\n  They that have power to hurt, and will do none,\\r\\n  That do not do the thing they most do show,\\r\\n  Who, moving others, are themselves as stone,\\r\\n  Unmoved, cold, and to temptation slow,--\\r\\n\\r\\n  They rightly do inherit heaven\\'s graces,\\r\\n  And husband nature\\'s riches from expense;\\r\\n  They are the lords and owners of their faces,\\r\\n  Others, but stewards of their excellence.\\r\\n\\r\\n  The summer\\'s flower is to the summer sweet,\\r\\n  Though to itself it only live and die;\\r\\n  But if that flower with base infection meet,\\r\\n  The basest weed outbraves his dignity:\\r\\n\\r\\n  For sweetest things turn sourest by their deeds;\\r\\n  Lilies that fester smell far worse than weeds.\\r\\n\\r\\n\\r\\n_William Shakespeare._\\r\\n\\r\\n\\r\\n\\r\\n\\r\\nCHARACTER OF A HAPPY LIFE\\r\\n\\r\\n\\r\\n\"I\\'d rather be right than President,\" said Henry Clay. It is to men who\\r\\nare animated by this spirit that the greatest satisfaction in life\\r\\ncomes. For true blessedness does not lie far off and above us. It is\\r\\nclose at hand. Booker T. Washington once told a story of a ship that had\\r\\nexhausted its supply of fresh water and signaled its need to a passing\\r\\nvessel. The reply was, \"Send down your buckets where you are.\" Thinking\\r\\nthere was some misunderstanding, the captain repeated his signal, only\\r\\nto be answered as before. This time he did as he was bidden and secured\\r\\nan abundance of fresh water. His ship was opposite the mouth of a mighty\\r\\nriver which still kept its current unmingled with the waters of the\\r\\nocean.'"
      ]
     },
     "execution_count": 13,
     "metadata": {},
     "output_type": "execute_result"
    }
   ],
   "source": [
    "response.source_nodes[1].get_text()"
   ]
  },
  {
   "cell_type": "markdown",
   "metadata": {},
   "source": [
    "### Streaming response"
   ]
  },
  {
   "cell_type": "code",
   "execution_count": 15,
   "metadata": {},
   "outputs": [
    {
     "name": "stdout",
     "output_type": "stream",
     "text": [
      "The poems by Rudyard Kipling included in this book are \"If\" and \"When Earth's Last Picture Is Painted.\""
     ]
    }
   ],
   "source": [
    "response = query_engine.query(\n",
    "    \"What poems by Rudyard Kipling are in this book?\"\n",
    ")\n",
    "\n",
    "response.print_response_stream()"
   ]
  },
  {
   "cell_type": "markdown",
   "metadata": {},
   "source": [
    "### 💬 Chat Engine"
   ]
  },
  {
   "cell_type": "code",
   "execution_count": 19,
   "metadata": {},
   "outputs": [
    {
     "name": "stdout",
     "output_type": "stream",
     "text": [
      "===== Entering Chat REPL =====\n",
      "Type \"exit\" to exit.\n",
      "\n",
      "Assistant: This book is a collection of poems and prose pieces that explore various themes and ideas. The title, \"The Scrap Book,\" suggests that it is a compilation of diverse writings, perhaps collected by the author or editor over time.\n",
      "\n",
      "The poems cover a range of topics, including life's struggles, perseverance, courage, and the pursuit of truth. For example, \"The Fighter\" is a poem about facing daily battles against fear and doubt, and how fighting keeps one's spirit strong. \"The Game\" encourages readers to play the game of life with fairness and integrity, valuing the process more than the outcome. \"Courage\" emphasizes the importance of maintaining a brave and dignified attitude in the face of life's challenges.\n",
      "\n",
      "The prose pieces also offer insights and anecdotes. One piece titled \"A Good Name\" highlights the value of a good reputation and integrity, using a story about Robert E. Lee to illustrate the point. Another piece, \"Swellitis,\" discusses an employer's strategy of not praising employees to avoid them becoming arrogant and difficult to work with.\n",
      "\n",
      "Overall, \"The Scrap Book\" seems to be a collection of inspirational and thought-provoking writings, offering readers a variety of perspectives and lessons on life, character, and personal growth.\n",
      "\n"
     ]
    }
   ],
   "source": [
    "chat_engine = index.as_chat_engine(llm=llm)\n",
    "\n",
    "chat_engine.streaming_chat_repl()"
   ]
  },
  {
   "cell_type": "markdown",
   "metadata": {},
   "source": [
    "### Chat modes\n",
    "\n",
    "#### Simple\n",
    "\n",
    "Chat with LLM, without making use of a knowledge base. To use this mode set `chat_mode=\"simple\"`.\n",
    "\n",
    "Corresponds to [`SimpleChatEngine`](https://github.com/run-llama/llama_index/blob/main/llama-index-core/llama_index/core/chat_engine/simple.py). \n",
    "\n",
    "#### Condense question\n",
    "\n",
    "Generate a standalone question from the conversation context and the last message. Then, ask the query engine for a response. To use this mode set `chat_mode=\"condense_question\"`.\n",
    "\n",
    "Corresponds to [`CondenseQuestionChatEngine`](https://github.com/run-llama/llama_index/blob/main/llama-index-core/llama_index/core/chat_engine/condense_question.py).\n",
    "\n",
    "#### Context \n",
    "\n",
    "Retrieve text from the index based on the user's message. Utilize this context to formulate a response. To use this mode set `chat_mode=\"context\"`.\n",
    "\n",
    "Corresponds to [`ContextChatEngine`](https://github.com/run-llama/llama_index/blob/main/llama-index-core/llama_index/core/chat_engine/context.py).\n",
    "\n",
    "#### Condense plus context\n",
    "\n",
    "Condense a conversation and latest user message to a standalone question. Then build a context for the standalone question from a retriever. Finally, pass the context along with prompt and user message to LLM to generate a response. To use this mode set `chat_mode=\"condense_plus_context\"`.\n",
    "\n",
    "Corresponds to [`CondensePlusContextChatEngine`](https://github.com/run-llama/llama_index/blob/main/llama-index-core/llama_index/core/chat_engine/condense_plus_context.py).\n",
    "\n",
    "#### ReACT\n",
    "Corresponds to [`ReActAgent`](https://github.com/run-llama/llama_index/blob/37c95965426bddae82cec1ad49d3aa82e8bfe819/llama-index-core/llama_index/core/agent/react/base.py#L36).\n",
    "\n",
    "Use a ReAct agent loop with query engine tools. To use this mode set `chat_mode=\"react\"`.\n",
    "\n",
    "#### Best\n",
    "\n",
    "Select the best chat engine based on the current LLM. To use this mode set `chat_mode=\"best\"`.\n",
    "\n",
    "Corresponds to `OpenAIAgent` if using an OpenAI model that supports function calling API, otherwise, corresponds to `ReActAgent`."
   ]
  },
  {
   "cell_type": "code",
   "execution_count": 20,
   "metadata": {},
   "outputs": [
    {
     "name": "stdout",
     "output_type": "stream",
     "text": [
      "===== Entering Chat REPL =====\n",
      "Type \"exit\" to exit.\n",
      "\n",
      "Assistant: 'It Can Be Done' is a collection of poems that explores various themes related to human experiences, emotions, and the human spirit. The poems in this book seem to be written by different authors, each offering their unique perspectives and insights.\n",
      "\n",
      "The title itself, 'It Can Be Done', suggests a theme of determination, perseverance, and the power of the human will. Many of the poems appear to be motivational and inspirational, encouraging readers to face challenges, overcome obstacles, and achieve their goals.\n",
      "\n",
      "Some of the poems, like \"The Fighter\" and \"Courage,\" focus on the struggles and battles we face in life, emphasizing the importance of resilience and a fighting spirit. Others, such as \"To Youth After Pain,\" offer solace and hope in the face of grief and suffering, reminding readers that pain is a part of life and can lead to growth and empathy.\n",
      "\n",
      "The book also seems to touch on themes of self-improvement, personal growth, and the pursuit of truth, as seen in poems like \"The Game\" and \"A Good Name.\" It encourages readers to strive for excellence, maintain integrity, and value the process of striving rather than just the outcome.\n",
      "\n",
      "Overall, 'It Can Be Done' appears to be a collection of poems that aims to inspire and uplift readers, providing them with a source of motivation and encouragement to navigate the challenges and joys of life.\n",
      "\n"
     ]
    }
   ],
   "source": [
    "from llama_index.core.memory import ChatMemoryBuffer\n",
    "\n",
    "memory = ChatMemoryBuffer.from_defaults(token_limit=1500)\n",
    "\n",
    "chat_engine = index.as_chat_engine(\n",
    "    llm=llm,\n",
    "    chat_mode=\"context\",\n",
    "    memory=memory,\n",
    "    system_prompt=(\n",
    "        \"You are a chatbot, able to have normal interactions, as well as talk\"\n",
    "        \" about a book of poems called 'It Can Be Done'.\"\n",
    "    ),\n",
    ")\n",
    "\n",
    "chat_engine.streaming_chat_repl()"
   ]
  },
  {
   "cell_type": "markdown",
   "metadata": {},
   "source": [
    "# Customizing Querying\n",
    "\n",
    "- 🔧 **Customizing Retrieval**: Use LlamaIndex's low-level composition API to adjust `top_k` value for more granular control over query results.\n",
    "\n",
    "- 📈 **Adding Post-Processing**: Implement a step to ensure only nodes meeting a minimum similarity score are included, balancing between data richness and relevance.\n",
    "\n",
    "- 🎚️ **SimilarityPostprocessor**: Set a similarity score threshold, compatible only with embedding-based retrievers, to ensure high relevance."
   ]
  },
  {
   "cell_type": "code",
   "execution_count": 25,
   "metadata": {},
   "outputs": [],
   "source": [
    "from llama_index.core import get_response_synthesizer\n",
    "from llama_index.core.retrievers import VectorIndexRetriever\n",
    "from llama_index.core.query_engine import RetrieverQueryEngine\n",
    "from llama_index.core.postprocessor import SimilarityPostprocessor\n",
    "\n",
    "# configure a retriever\n",
    "retriever = VectorIndexRetriever(\n",
    "    index=index,\n",
    "    similarity_top_k=10,\n",
    ")\n",
    "\n",
    "# configure a post processor\n",
    "similarity_processor = SimilarityPostprocessor(similarity_cutoff=0.32)\n",
    "\n",
    "# configure a response sythesizer\n",
    "response_synthsizer = get_response_synthesizer(llm=llm)\n",
    "\n",
    "# create a query engine\n",
    "query_engine = RetrieverQueryEngine(\n",
    "    retriever=retriever,\n",
    "    response_synthesizer=response_synthsizer,\n",
    "    node_postprocessors=[similarity_processor],\n",
    ")"
   ]
  },
  {
   "cell_type": "code",
   "execution_count": 26,
   "metadata": {},
   "outputs": [
    {
     "data": {
      "text/plain": [
       "Response(response='The provided text contains a collection of poems and narratives that explore various themes, including the power of the human spirit, the importance of perseverance, and the value of inner strength. While some pieces focus on external battles, such as the poem \"Battle Cry,\" which speaks of the courage and determination required in physical combat, many delve into the internal struggles and triumphs of the human experience.\\n\\nOne recurring theme is the idea that true strength lies within the individual, and that external circumstances should not define one\\'s character. For instance, \"The Quitter\" encourages resilience in the face of adversity, emphasizing that it\\'s not the end result but the act of fighting that matters. Similarly, \"The Call of the Unbeaten\" highlights the importance of \"stick-to-it-iveness\" and determination in overcoming obstacles.\\n\\nThe poem \"Know Thyself\" takes this idea further, suggesting that the greatest battles are fought within the self. It describes a journey of self-discovery, where the narrator realizes that their own spirit is the source of their strength and resilience. This internal battle is portrayed as a struggle against fate and life\\'s challenges, but ultimately, the narrator finds the courage to rise and fight again.\\n\\nIn contrast, some pieces, like \"The Woman Who Understands,\" focus on the external influence of a supportive figure, highlighting how a quiet, encouraging presence can shape a person\\'s life and career.\\n\\nOverall, the narratives and poems in this collection present a nuanced view of internal and external battles, emphasizing that while external circumstances can be challenging, it is the individual\\'s inner strength, resilience, and self-awareness that ultimately define their character and determine their success.', source_nodes=[NodeWithScore(node=TextNode(id_='3e712da1-abfb-421a-adda-c239aca95903', embedding=None, metadata={'file_path': '../data/pg10763.txt', 'file_name': 'pg10763.txt', 'file_type': 'text/plain', 'file_size': 405150, 'creation_date': '2025-09-19', 'last_modified_date': '2025-09-05'}, excluded_embed_metadata_keys=['file_name', 'file_type', 'file_size', 'creation_date', 'last_modified_date', 'last_accessed_date'], excluded_llm_metadata_keys=['file_name', 'file_type', 'file_size', 'creation_date', 'last_modified_date', 'last_accessed_date'], relationships={<NodeRelationship.SOURCE: '1'>: RelatedNodeInfo(node_id='../data/pg10763.txt', node_type='4', metadata={'file_path': '../data/pg10763.txt', 'file_name': 'pg10763.txt', 'file_type': 'text/plain', 'file_size': 405150, 'creation_date': '2025-09-19', 'last_modified_date': '2025-09-05'}, hash='858a9e79c3e93620378f6d9959a1333d695c67acf64e4e9ab23e4b6a89db2653'), <NodeRelationship.PREVIOUS: '2'>: RelatedNodeInfo(node_id='4c7dae34-7f22-4b4b-a083-004be54273d7', node_type='1', metadata={'file_path': '../data/pg10763.txt', 'file_name': 'pg10763.txt', 'file_type': 'text/plain', 'file_size': 405150, 'creation_date': '2025-09-19', 'last_modified_date': '2025-09-05'}, hash='b9a6e28cdb2832fc73d49940b39743ecc9d63c55913174f6bd2c80fcd4e6df99'), <NodeRelationship.NEXT: '3'>: RelatedNodeInfo(node_id='c451b438-fd8a-4298-be2e-2dae6486cbf4', node_type='1', metadata={}, hash='0235044e080d76d700cab358d0813983bbb070b79ca7e64fe3b98d2e9fa27e0e')}, metadata_template='{key}: {value}', metadata_separator='\\n', text='Ring, bells in unreared steeples,\\r\\n  The joy of unborn peoples!\\r\\n  Sound, trumpets far off blown,\\r\\n  Your triumph is my own.\\r\\n\\r\\n  Parcel and part of all,\\r\\n  I keep the festival,\\r\\n  Fore-reach the good to be,\\r\\n  And share the victory.\\r\\n\\r\\n  I feel the earth move sunward,\\r\\n  I join the great march onward,\\r\\n  And take, by faith, while living,\\r\\n  My freehold of thanksgiving.\\r\\n\\r\\n\\r\\n_John Green leaf Whittier._\\r\\n\\r\\n\\r\\n\\r\\n\\r\\nTO ALTHEA FROM PRISON\\r\\n\\r\\n\\r\\nIn the great Civil War in England between the Puritans and Charles the\\r\\nFirst the author of this poem sacrificed everything in the royal cause.\\r\\nThat cause was defeated and Lovelace was imprisoned. In these stanzas he\\r\\nmakes the most of his gloomy situation and sings the joys of various\\r\\nkinds of freedom. First is the freedom brought by love, when his\\r\\nsweetheart speaks to him through the grate of the dungeon. Second is the\\r\\nfreedom brought by the recollection of good fellowship, when tried and\\r\\ntrue comrades took their wine straight--\"with no allaying Thames.\" Third\\r\\nis the freedom brought by remembrance of the king for whom he was\\r\\nsuffering. Finally comes the passionate and heroic assertion that though\\r\\nthe body of a man may be confined, nevertheless his spirit can remain\\r\\nfree and chainless.\\r\\n\\r\\n\\r\\n  When Love with unconfinéd wings\\r\\n    Hovers within my gates,\\r\\n  And my divine Althea brings\\r\\n    To whisper at the grates;\\r\\n  When I lie tangled in her hair\\r\\n    And fetter\\'d to her eye,\\r\\n  The Gods that wanton in the air\\r\\n    Know no such liberty.\\r\\n\\r\\n  When flowing cups run swiftly round\\r\\n    With no allaying Thames,\\r\\n  Our careless heads with roses bound,\\r\\n    Our hearts with loyal flames;\\r\\n  When thirsty grief in wine we steep,\\r\\n    When healths and draughts go free--\\r\\n  Fishes that tipple in the deep\\r\\n    Know no such liberty.\\r\\n\\r\\n  When (like committed linnets) I\\r\\n    With shriller throat shall sing\\r\\n  The sweetness, mercy, majesty\\r\\n    And glories of my King;\\r\\n  When I shall voice aloud how good\\r\\n    He is, how great should be,\\r\\n  Enlarged winds, that curl the flood,\\r\\n    Know no such liberty.\\r\\n\\r\\n  Stone walls do not a prison make,\\r\\n    Nor iron bars a cage;\\r\\n  Minds innocent and quiet take\\r\\n    That for an hermitage;\\r\\n  If I have freedom in my love\\r\\n    And in my soul am free,\\r\\n  Angels alone, that soar above,\\r\\n    Enjoy such liberty.\\r\\n\\r\\n\\r\\n_Richard Lovelace._\\r\\n\\r\\n\\r\\n\\r\\n\\r\\nGRIEF\\r\\n\\r\\n\\r\\nShakespeare says: \"I can easier teach twenty what were good to be done,\\r\\nthan be one of the twenty to follow mine own teaching.\" This is\\r\\nespecially true regarding grief or affliction. \"Man was born unto\\r\\ntrouble, as the sparks fly upward,\" but we bid other people bear their\\r\\nsorrows manfully; we should therefore bear ours with equal courage.\\r\\n\\r\\n\\r\\n  Upon this trouble shall I whet my life\\r\\n  As \\'twere a dulling knife;\\r\\n  Bade I my friend be brave?\\r\\n  I shall still braver be.\\r\\n  No man shall say of me,\\r\\n  \"Others he saved, himself he cannot save.\"\\r\\n  But swift and fair\\r\\n  As the Primeval word that smote the night--\\r\\n  \"Let there be light!\"\\r\\n  Courage shall leap from me, a gallant sword\\r\\n  To rout the enemy and all his horde,\\r\\n  Cleaving a kingly pathway through despair.\\r\\n\\r\\n\\r\\n_Angela Morgan._\\r\\n\\r\\nFrom \"Forward, March!\"\\r\\n\\r\\n\\r\\n\\r\\n\\r\\nTHE RECTIFYING YEARS\\r\\n\\r\\n\\r\\nTime brings the deeper understanding that clears up our misconceptions;\\r\\nit shows us the error of our hates; it dispels our worries and our\\r\\nfears; it allays the grief that seemed too poignant to be borne.\\r\\n\\r\\n\\r\\n  Yes, things are more or less amiss;\\r\\n  To-day it\\'s that, to-morrow this;\\r\\n  Yet with so much that\\'s out of whack,\\r\\n  Life does not wholly jump the track\\r\\n  Because, since matters move along,\\r\\n  No _one_ thing\\'s always _staying_ wrong.\\r\\n  So heed not failures, losses, fears,\\r\\n  But trust the rectifying years.\\r\\n\\r\\n  What we shall have\\'s not what we\\'ve got;\\r\\n  Our pains don\\'t linger in one spot--\\r\\n  They skip about; the seesaw\\'s end\\r\\n  That\\'s up will mighty soon descend;\\r\\n  You\\'ve looked at bacon? Life\\'s like that--\\r\\n  A streak of lean, a streak of fat.\\r\\n  Change, like a sky that clouds, that clears,\\r\\n  Hangs o\\'er the rectifying years.', mimetype='text/plain', start_char_idx=147706, end_char_idx=151778, metadata_seperator='\\n', text_template='{metadata_str}\\n\\n{content}'), score=0.36501646), NodeWithScore(node=TextNode(id_='830674d5-0c94-4a95-902f-db2119c73cd0', embedding=None, metadata={'file_path': '../data/pg10763.txt', 'file_name': 'pg10763.txt', 'file_type': 'text/plain', 'file_size': 405150, 'creation_date': '2025-09-19', 'last_modified_date': '2025-09-05'}, excluded_embed_metadata_keys=['file_name', 'file_type', 'file_size', 'creation_date', 'last_modified_date', 'last_accessed_date'], excluded_llm_metadata_keys=['file_name', 'file_type', 'file_size', 'creation_date', 'last_modified_date', 'last_accessed_date'], relationships={<NodeRelationship.SOURCE: '1'>: RelatedNodeInfo(node_id='../data/pg10763.txt', node_type='4', metadata={'file_path': '../data/pg10763.txt', 'file_name': 'pg10763.txt', 'file_type': 'text/plain', 'file_size': 405150, 'creation_date': '2025-09-19', 'last_modified_date': '2025-09-05'}, hash='858a9e79c3e93620378f6d9959a1333d695c67acf64e4e9ab23e4b6a89db2653'), <NodeRelationship.PREVIOUS: '2'>: RelatedNodeInfo(node_id='e635f64b-364d-4da9-b9f7-c6202f20abf3', node_type='1', metadata={'file_path': '../data/pg10763.txt', 'file_name': 'pg10763.txt', 'file_type': 'text/plain', 'file_size': 405150, 'creation_date': '2025-09-19', 'last_modified_date': '2025-09-05'}, hash='5714e3bd1a131a818feb5f026fc9b70e1a45f73026b0469eaf4ab3c903491414'), <NodeRelationship.NEXT: '3'>: RelatedNodeInfo(node_id='3e0104a2-33ac-4fdd-96fd-c86cad407456', node_type='1', metadata={}, hash='39be01092137de42539779de59df85974013a80577b408bf726ed3d32be03ed6')}, metadata_template='{key}: {value}', metadata_separator='\\n', text='Laugh like a boy at splendors that have sped,\\r\\n    To vanished joys be blind and deaf and dumb;\\r\\n  My judgments seal the dead past with its dead,\\r\\n    But never bind a moment yet to come.\\r\\n\\r\\n  Though deep in mire, wring not your hands and weep;\\r\\n    I lend my arm to all who say \"I can!\"\\r\\n  No shame-faced outcast ever sank so deep,\\r\\n    But yet might rise and be again a man!\\r\\n\\r\\n  Dost thou behold thy lost youth all aghast?\\r\\n    Dost reel from righteous Retribution\\'s blow?\\r\\n  Then turn from blotted archives of the past,\\r\\n    And find the future\\'s pages white as snow.\\r\\n\\r\\n  Art thou a mourner? Rouse thee from thy spell;\\r\\n    Art thou a sinner? Sins may be forgiven;\\r\\n  Each morning gives thee wings to flee from hell,\\r\\n    Each night a star to guide thy feet to heaven.\\r\\n\\r\\n\\r\\n_Walter Malone._\\r\\n\\r\\n\\r\\n\\r\\n\\r\\nOPPORTUNITY\\r\\n\\r\\n\\r\\nIn this poem yet another view of opportunity is presented. The recreant\\r\\nor the dreamer complains that he has no real chance. He would succeed,\\r\\nhe says, if he had but the implements of success--money, influence,\\r\\nsocial prestige, and the like. But success lies far less in implements\\r\\nthan in the use we make of them. What one man throws away as useless,\\r\\nanother man seizes as the best means of victory at hand. For every one\\r\\nof us the materials for achievement are sufficient. The spirit that\\r\\nprompts us is what ultimately counts.\\r\\n\\r\\n\\r\\n  This I beheld, or dreamed it in a dream:--\\r\\n  There spread a cloud of dust along a plain;\\r\\n  And underneath the cloud, or in it, raged\\r\\n  A furious battle, and men yelled, and swords\\r\\n  Shocked upon swords and shields. A prince\\'s banner\\r\\n  Wavered, then staggered backward, hemmed by foes.\\r\\n  A craven hung along the battle\\'s edge,\\r\\n  And thought, \"Had I a sword of keener steel--\\r\\n  That blue blade that the king\\'s son bears,--but this\\r\\n  Blunt thing--!\" he snapt and flung it from his hand,\\r\\n  And lowering crept away and left the field.\\r\\n  Then came the king\\'s son, wounded, sore bestead,\\r\\n  And weaponless, and saw the broken sword,\\r\\n  Hilt-buried in the dry and trodden sand,\\r\\n  And ran and snatched it, and with battle-shout\\r\\n  Lifted afresh he hewed his enemy down,\\r\\n  And saved a great cause that heroic day.\\r\\n\\r\\n\\r\\n_Edward Rowland Sill._\\r\\n\\r\\nFrom \"Poems.\"\\r\\n\\r\\n\\r\\n\\r\\n[Illustration: JAMES WHITCOMB RILEY]\\r\\n\\r\\n\\r\\n\\r\\n\\r\\nMY PHILOSOPHY\\r\\n\\r\\n\\r\\nThough dogs persist in barking at the moon, the moon\\'s business is not\\r\\nto answer the dogs or to waste strength placating them, but simply to\\r\\nshine. The man who strives or succeeds is sure to be criticized. Is he\\r\\ntherefore to abstain from all effort? We are responsible for our own\\r\\nlives and cannot regulate them according to other people\\'s ideas. \"Whoso\\r\\nwould be a man,\" says Emerson, \"must be a nonconformist.\"\\r\\n\\r\\n\\r\\n  I allus argy that a man\\r\\n  Who does about the best he can\\r\\n  Is plenty good enugh to suit\\r\\n  This lower mundane institute--\\r\\n  No matter ef his daily walk\\r\\n  Is subject fer his neghbor\\'s talk,\\r\\n  And critic-minds of ev\\'ry whim\\r\\n  Jest all git up and go fer him!\\r\\n\\r\\n       *       *       *       *       *\\r\\n\\r\\n  It\\'s natchurl enugh, I guess,\\r\\n  When some gits more and some gits less,\\r\\n  Fer them-uns on the slimmest side\\r\\n  To claim it ain\\'t a fare divide;\\r\\n  And I\\'ve knowed some to lay and wait,\\r\\n  And git up soon, and set up late,\\r\\n  To ketch some feller they could hate\\r\\n  For goin\\' at a faster gait.\\r\\n\\r\\n       *       *       *       *       *\\r\\n\\r\\n  My doctern is to lay aside\\r\\n  Contensions, and be satisfied:\\r\\n  Jest do your best, and praise er blame\\r\\n  That follers that, counts jest the same.\\r\\n  I\\'ve allus noticed grate success\\r\\n  Is mixed with troubles, more er less,\\r\\n  And it\\'s the man who does the best\\r\\n  That gits more kicks than all the rest.\\r\\n\\r\\n\\r\\n_James Whitcomb Riley._\\r\\n\\r\\nFrom the Biographical Edition\\r\\nOf the Complete Works of James Whitcomb Riley.\\r\\n\\r\\n\\r\\n\\r\\n\\r\\nULYSSES\\r\\n\\r\\n\\r\\nThis volume consists chiefly of contemporary or very recent verse.', mimetype='text/plain', start_char_idx=96650, end_char_idx=100531, metadata_seperator='\\n', text_template='{metadata_str}\\n\\n{content}'), score=0.35331485), NodeWithScore(node=TextNode(id_='a665a5d3-489d-483f-816e-4c1b1f34f464', embedding=None, metadata={'file_path': '../data/pg10763.txt', 'file_name': 'pg10763.txt', 'file_type': 'text/plain', 'file_size': 405150, 'creation_date': '2025-09-19', 'last_modified_date': '2025-09-05'}, excluded_embed_metadata_keys=['file_name', 'file_type', 'file_size', 'creation_date', 'last_modified_date', 'last_accessed_date'], excluded_llm_metadata_keys=['file_name', 'file_type', 'file_size', 'creation_date', 'last_modified_date', 'last_accessed_date'], relationships={<NodeRelationship.SOURCE: '1'>: RelatedNodeInfo(node_id='../data/pg10763.txt', node_type='4', metadata={'file_path': '../data/pg10763.txt', 'file_name': 'pg10763.txt', 'file_type': 'text/plain', 'file_size': 405150, 'creation_date': '2025-09-19', 'last_modified_date': '2025-09-05'}, hash='858a9e79c3e93620378f6d9959a1333d695c67acf64e4e9ab23e4b6a89db2653'), <NodeRelationship.PREVIOUS: '2'>: RelatedNodeInfo(node_id='5a9b1d8b-3a84-482d-9ee9-8237fbf50142', node_type='1', metadata={'file_path': '../data/pg10763.txt', 'file_name': 'pg10763.txt', 'file_type': 'text/plain', 'file_size': 405150, 'creation_date': '2025-09-19', 'last_modified_date': '2025-09-05'}, hash='32060d7d53d86e30265d00fcf49a0f2cd55470c2330f727d1b93082bae6267ff'), <NodeRelationship.NEXT: '3'>: RelatedNodeInfo(node_id='7dae4a71-10e1-49b6-9ec9-0a4e90209963', node_type='1', metadata={}, hash='200331731e2e1232e6ac9b3290b9f7ac531f4fb9b6304df021d336879f18652d')}, metadata_template='{key}: {value}', metadata_separator='\\n', text='_Henry Wadsworth Longfellow._\\r\\n\\r\\n\\r\\n\\r\\n\\r\\nA CREED\\r\\n\\r\\nMen may seem sundered from each other; but the soul that each possesses,\\r\\nand the destiny common to all, invest them with a basic brotherhood.\\r\\n\\r\\n\\r\\n  There is a destiny that makes us brothers:\\r\\n    None goes his way alone:\\r\\n  All that we send into the lives of others\\r\\n    Comes back into our own.\\r\\n\\r\\n  I care not what his temples or his creeds,\\r\\n    One thing holds firm and fast--\\r\\n  That into his fateful heap of days and deeds\\r\\n    The soul of a man is cast.\\r\\n\\r\\n\\r\\n_Edwin Markham_\\r\\n\\r\\nFrom \"Lincoln, and Other Poems.\"\\r\\n\\r\\n\\r\\n\\r\\n\\r\\nBATTLE CRY\\r\\n\\r\\nWe should win if we can. But in any case we should prove our manhood by\\r\\nfighting.\\r\\n\\r\\n\\r\\n  More than half beaten, but fearless,\\r\\n  Facing the storm and the night;\\r\\n  Breathless and reeling but tearless,\\r\\n  Here in the lull of the fight,\\r\\n  I who bow not but before thee,\\r\\n  God of the fighting Clan,\\r\\n  Lifting my fists, I implore Thee,\\r\\n  Give me the heart of a Man!\\r\\n\\r\\n  What though I live with the winners\\r\\n  Or perish with those who fall?\\r\\n  Only the cowards are sinners,\\r\\n  Fighting the fight is all.\\r\\n  Strong is my foe--he advances!\\r\\n  Snapt is my blade, O Lord!\\r\\n  See the proud banners and lances!\\r\\n  Oh, spare me this stub of a sword!\\r\\n\\r\\n  Give me no pity, nor spare me;\\r\\n  Calm not the wrath of my Foe.\\r\\n  See where he beckons to dare me!\\r\\n  Bleeding, half beaten--I go.\\r\\n  Not for the glory of winning,\\r\\n  Not for the fear of the night;\\r\\n  Shunning the battle is sinning--\\r\\n  Oh, spare me the heart to fight!\\r\\n\\r\\n  Red is the mist about me;\\r\\n  Deep is the wound in my side;\\r\\n  \"Coward\" thou criest to flout me?\\r\\n  O terrible Foe, thou hast lied!\\r\\n  Here with my battle before me,\\r\\n  God of the fighting Clan,\\r\\n  Grant that the woman who bore me\\r\\n  Suffered to suckle a Man!\\r\\n\\r\\n\\r\\n_John G. Neihardt._\\r\\n\\r\\nFrom \"The Quest\" (collected lyrics).\\r\\n\\r\\n\\r\\n\\r\\n\\r\\nTHE HAPPY HEART\\r\\n\\r\\n\\r\\nOne of our objects in life should be to find happiness, contentment. The\\r\\nmeans of happiness are surprisingly simple. We need not be rich or\\r\\nhigh-placed or powerful in order to be content. In fact the lowly are\\r\\noften the best satisfied. Izaak Walton lived the simple life and thanked\\r\\nGod that there were so many things in the world of which he had no need.\\r\\n\\r\\n\\r\\n  Art thou poor, yet hast thou golden slumbers?\\r\\n    O sweet content!\\r\\n  Art thou rich, yet is thy mind perplexed?\\r\\n    O punishment!\\r\\n  Dost thou laugh to see how fools are vexed\\r\\n  To add to golden numbers, golden numbers?\\r\\n  O sweet content! O sweet, O sweet content!\\r\\n    Work apace, apace, apace, apace;\\r\\n    Honest labor bears a lovely face;\\r\\n  Then hey nonny nonny, hey nonny nonny!\\r\\n\\r\\n  Canst drink the waters of the crispéd spring?\\r\\n    O sweet content!\\r\\n  Swimm\\'st thou in wealth, yet sink\\'st in thine own tears?\\r\\n    O punishment!\\r\\n  Then he that patiently want\\'s burden bears\\r\\n  No burden bears, but is a king, a king!\\r\\n  O sweet content! O sweet, O sweet content!\\r\\n    Work apace, apace, apace, apace;\\r\\n    Honest labor bears a lovely face;\\r\\n  Then hey nonny nonny, hey nonny nonny!\\r\\n\\r\\n\\r\\n_Thomas Dekker._\\r\\n\\r\\n\\r\\n\\r\\n\\r\\nIF YOU CAN\\'T GO OVER OR UNDER, GO ROUND\\r\\n\\r\\n\\r\\nOften the straight road to the thing we desire is blocked. We should not\\r\\nthen weakly give over our purpose, but should set about attaining it by\\r\\nsome indirect method. A politician knows that one way of getting a man\\'s\\r\\nvote is to please the man\\'s wife, and that one way of pleasing the wife\\r\\nis to kiss her baby.\\r\\n\\r\\n\\r\\n  A baby mole got to feeling big,\\r\\n  And wanted to show how he could dig;\\r\\n  So he plowed along in the soft, warm dirt\\r\\n  Till he hit something hard, and it surely hurt!\\r\\n  A dozen stars flew out of his snout;\\r\\n  He sat on his haunches, began to pout;\\r\\n  Then rammed the thing again with his head--\\r\\n  His grandpap picked him up half dead.\\r\\n  \"Young man,\" he said, \"though your pate is bone.', mimetype='text/plain', start_char_idx=224755, end_char_idx=228575, metadata_seperator='\\n', text_template='{metadata_str}\\n\\n{content}'), score=0.34655035), NodeWithScore(node=TextNode(id_='97fc2d6f-ed66-4b74-b97a-2795ee9b93b2', embedding=None, metadata={'file_path': '../data/pg10763.txt', 'file_name': 'pg10763.txt', 'file_type': 'text/plain', 'file_size': 405150, 'creation_date': '2025-09-19', 'last_modified_date': '2025-09-05'}, excluded_embed_metadata_keys=['file_name', 'file_type', 'file_size', 'creation_date', 'last_modified_date', 'last_accessed_date'], excluded_llm_metadata_keys=['file_name', 'file_type', 'file_size', 'creation_date', 'last_modified_date', 'last_accessed_date'], relationships={<NodeRelationship.SOURCE: '1'>: RelatedNodeInfo(node_id='../data/pg10763.txt', node_type='4', metadata={'file_path': '../data/pg10763.txt', 'file_name': 'pg10763.txt', 'file_type': 'text/plain', 'file_size': 405150, 'creation_date': '2025-09-19', 'last_modified_date': '2025-09-05'}, hash='858a9e79c3e93620378f6d9959a1333d695c67acf64e4e9ab23e4b6a89db2653'), <NodeRelationship.PREVIOUS: '2'>: RelatedNodeInfo(node_id='81b885d7-1eac-4173-82d1-2c2448bca924', node_type='1', metadata={'file_path': '../data/pg10763.txt', 'file_name': 'pg10763.txt', 'file_type': 'text/plain', 'file_size': 405150, 'creation_date': '2025-09-19', 'last_modified_date': '2025-09-05'}, hash='1fee5a810beb8dacc8140fbb1871b7e3d91351835dccbf172e58ef681ffe0e43'), <NodeRelationship.NEXT: '3'>: RelatedNodeInfo(node_id='c0a36e21-a8c9-4d2a-8fd3-3ef54a5b43ee', node_type='1', metadata={}, hash='8dcb66c766c6bce435974a6b3e45e8eadaf1573c8e18a21249de54acff81b826')}, metadata_template='{key}: {value}', metadata_separator='\\n', text='Out of the smoke of the battle-line watching men win their way,\\r\\nAnd, cheering with those who cheer success, he enters again the fray,\\r\\nLicking the blood and the dust from his lips, wiping the sweat from his\\r\\n          eyes,\\r\\nHe does the work he is set to do--and \"therein honor lies.\"\\r\\nBrave they were, these men he cheered,--theirs is the winners\\' thrill;\\r\\n_His_ fight is lost--and he knows it is lost--and yet he is fighting still.\\r\\n\\r\\nAnd those who won have rest and peace; and those who died have more;\\r\\nBut, weary and spent, he can not stop seeking the ultimate score;\\r\\nCourage was theirs for a little time,--but what of the man who sees\\r\\nThat he must lose, yet will not beg mercy upon his knees?\\r\\nSide by side with grim Defeat, he struggles at dusk or dawn,--\\r\\nHis fight is lost--and he knows it is lost--and yet he is fighting on.\\r\\n\\r\\nPraise for the warriors who succeed, and tears for the vanquished dead;\\r\\nThe world will hold them close to her heart, wreathing each honored head,\\r\\nBut there in the ranks, soul-sick, time-tried, he battles against the odds,\\r\\n_Sans_ hope, but true to his colors torn, the plaything of the gods!\\r\\nUncover when he goes by, at last! Held to his task by _will_\\r\\nThe fight is lost--and he knows it is lost--and yet he is fighting still!\\r\\n\\r\\n\\r\\n_Everard Jack Appleton._\\r\\n\\r\\nFrom \"The Quiet Courage.\"\\r\\n\\r\\n\\r\\n\\r\\n\\r\\nDUTY\\r\\n\\r\\n\\r\\nIn a single sentence Emerson crystallizes the faith that nothing is\\r\\nimpossible to those whose guide is duty. His words, though spoken\\r\\nprimarily of youth, apply to the whole of human life.\\r\\n\\r\\n\\r\\n  So nigh is grandeur to our dust,\\r\\n   So near is God to man,\\r\\n  When duty whispers low, _Thou must_,\\r\\n   The youth replies, _I can_.\\r\\n\\r\\n\\r\\n_Ralph Waldo Emerson._\\r\\n\\r\\n\\r\\n\\r\\n\\r\\nTHE CALL OF THE UNBEATEN\\r\\n\\r\\n\\r\\nP.T. Barnum had shrewdness, inventiveness, hair-trigger readiness in\\r\\nacting or deciding, an eye for hidden possibilities, an instinct for\\r\\ndetermining beforehand what would prove popular. All these qualities\\r\\nhelped him in his original and extraordinary career. But the quality he\\r\\nvalued most highly was the one he called \"stick-to-it-iveness.\" This\\r\\ncompleted the others. Without it the great showman could not have\\r\\nsucceeded at all. Nor did he think that any man who lacks it will make\\r\\nmuch headway in life.\\r\\n\\r\\n\\r\\n  We know how rough the road will be,\\r\\n  How heavy here the load will be,\\r\\n    We know about the barricades that wait along the track;\\r\\n  But we have set our soul ahead\\r\\n  Upon a certain goal ahead\\r\\n    And nothing left from hell to sky shall ever turn us back.\\r\\n\\r\\n  We know how brief all fame must be,\\r\\n  We know how crude the game must be,\\r\\n    We know how soon the cheering turns to jeering down the block;\\r\\n  But there\\'s a deeper feeling here\\r\\n  That Fate can\\'t scatter reeling here,\\r\\n    In knowing we have battled with the final ounce in stock.\\r\\n\\r\\n  We sing of no wild glory now,\\r\\n  Emblazoning some story now\\r\\n    Of mighty charges down the field beyond some guarded pit;\\r\\n  But humbler tasks befalling us,\\r\\n  Set duties that are calling us,\\r\\n    Where nothing left from hell to sky shall ever make us quit.\\r\\n\\r\\n\\r\\n_Grantland Rice._\\r\\n\\r\\nFrom \"The Sportlight.\"\\r\\n\\r\\n\\r\\n\\r\\n\\r\\nPOLONIUS\\'S ADVICE TO LAERTES\\r\\n\\r\\n\\r\\nA father\\'s advice to his son how to conduct himself in the world: Don\\'t\\r\\ntell all you think, or put into action thoughts out of harmony or\\r\\nproportion with the occasion. Be friendly, but not common; don\\'t dull\\r\\nyour palm by effusively shaking hands with every chance newcomer. Avoid\\r\\nquarrels if you can, but if they are forced on you, give a good account\\r\\nof yourself. Hear every man\\'s censure (opinion), but express your own\\r\\nideas to few. Dress well, but not ostentatiously. Neither borrow nor\\r\\nlend. And guarantee yourself against being false to others by setting up\\r\\nthe high moral principle of being true to yourself.\\r\\n\\r\\n\\r\\n  Give thy thoughts no tongue,\\r\\n  Nor any unproportion\\'d thought his act.\\r\\n  Be thou familiar, but by no means vulgar;\\r\\n  The friends thou hast, and their adoption tried,\\r\\n  Grapple them to thy soul with hoops of steel;\\r\\n  But do not dull thy palm with entertainment\\r\\n  Of each new-hatch\\'d, unfledg\\'d comrade.', mimetype='text/plain', start_char_idx=83648, end_char_idx=87758, metadata_seperator='\\n', text_template='{metadata_str}\\n\\n{content}'), score=0.32540226), NodeWithScore(node=TextNode(id_='7e6b3e31-c4cd-45e8-9f69-7fb4e58b89e4', embedding=None, metadata={'file_path': '../data/pg10763.txt', 'file_name': 'pg10763.txt', 'file_type': 'text/plain', 'file_size': 405150, 'creation_date': '2025-09-19', 'last_modified_date': '2025-09-05'}, excluded_embed_metadata_keys=['file_name', 'file_type', 'file_size', 'creation_date', 'last_modified_date', 'last_accessed_date'], excluded_llm_metadata_keys=['file_name', 'file_type', 'file_size', 'creation_date', 'last_modified_date', 'last_accessed_date'], relationships={<NodeRelationship.SOURCE: '1'>: RelatedNodeInfo(node_id='../data/pg10763.txt', node_type='4', metadata={'file_path': '../data/pg10763.txt', 'file_name': 'pg10763.txt', 'file_type': 'text/plain', 'file_size': 405150, 'creation_date': '2025-09-19', 'last_modified_date': '2025-09-05'}, hash='858a9e79c3e93620378f6d9959a1333d695c67acf64e4e9ab23e4b6a89db2653'), <NodeRelationship.PREVIOUS: '2'>: RelatedNodeInfo(node_id='4413bc1e-b9d5-4fb7-910e-7735a79f204f', node_type='1', metadata={'file_path': '../data/pg10763.txt', 'file_name': 'pg10763.txt', 'file_type': 'text/plain', 'file_size': 405150, 'creation_date': '2025-09-19', 'last_modified_date': '2025-09-05'}, hash='87932a048388eb6117b80f776f574654c9ecec19664a5d53b4e221b472abea44'), <NodeRelationship.NEXT: '3'>: RelatedNodeInfo(node_id='46097f02-991e-4b92-9954-07359e418bc0', node_type='1', metadata={}, hash='2f83f47ad7b67df86fe47586f86b00774c5cd5c9f58e490f29e0a71cdd5cd5a7')}, metadata_template='{key}: {value}', metadata_separator='\\n', text='Good-bye!\"\\r\\n\\r\\n  But the duckling was perky as perky.\\r\\n    \"Take care of your stuffing!\" he called.\\r\\n  (This was horribly rude to a turkey!)\\r\\n    \"But you aren\\'t a real turkey,\" he bawled.\\r\\n\\r\\n  \"You\\'re an Early-Victorian Sparrow!\\r\\n    A fox is more fun than a sheep!\\r\\n  I shall show that _my_ mind is not narrow\\r\\n    And give him my feathers--to keep.\"\\r\\n\\r\\n  Now the curious end of this fable,\\r\\n    So far as the rest ascertained,\\r\\n  Though they searched from the barn to the stable,\\r\\n    Was that _only his feathers remained._\\r\\n\\r\\n  So he _wasn\\'t_ the bond slave of habit,\\r\\n    And he _didn\\'t_ have webs on his toes;\\r\\n  And _perhaps_ he runs round like a rabbit,\\r\\n    A rabbit as red as a rose.\\r\\n\\r\\n\\r\\n_Alfred Noyes._\\r\\n\\r\\nFrom \"Collected Poems.\"\\r\\n\\r\\n\\r\\n\\r\\n\\r\\nCAN YOU SING A SONG?\\r\\n\\r\\n\\r\\nNothing lifts the spirit more than a song, especially the _inward_ song\\r\\nof a worker who can sound it alike at the beginning of his task, in the\\r\\nheat of midday, and in the weariness and cool of the evening.\\r\\n\\r\\n\\r\\n  Can you sing a song to greet the sun,\\r\\n  Can you cheerily tackle the work to be done,\\r\\n  Can you vision it finished when only begun,\\r\\n    Can you sing a song?\\r\\n\\r\\n  Can you sing a song when the day\\'s half through,\\r\\n  When even the thought of the rest wearies you,\\r\\n  With so little done and so much to do,\\r\\n    Can you sing a song?\\r\\n\\r\\n  Can you sing a song at the close of the day,\\r\\n  When weary and tired, the work\\'s put away,\\r\\n  With the joy that it\\'s done the best of the pay,\\r\\n    Can you sing a song?\\r\\n\\r\\n\\r\\n_Joseph Morris._\\r\\n\\r\\n\\r\\n\\r\\n\\r\\nKNOW THYSELF\\r\\n\\r\\n\\r\\nIt seems impossible that human beings could endure so much until we\\r\\nrealize that they _have_ endured it. The spirit of man performs\\r\\nmiracles; it transcends the limitations of flesh and blood. It is like\\r\\nUncle Remus\\'s account of Brer Rabbit climbing a tree. \"A rabbit couldn\\'t\\r\\ndo that,\" the little boy protested. \"He did,\" Uncle Remus responded; \"he\\r\\nwas jes\\' \\'bleeged to.\"\\r\\n\\r\\n\\r\\n  Reined by an unseen tyrant\\'s hand,\\r\\n  Spurred by an unseen tyrant\\'s will,\\r\\n  Aquiver at the fierce command\\r\\n  That goads you up the danger hill,\\r\\n  You cry: \"O Fate, O Life, be kind!\\r\\n  Grant but an hour of respite--give\\r\\n  One moment to my suffering mind!\\r\\n  I can not keep the pace and live.\"\\r\\n  But Fate drives on and will not heed\\r\\n  The lips that beg, the feet that bleed.\\r\\n  Drives, while you faint upon the road,\\r\\n  Drives, with a menace for a goad;\\r\\n  With fiery reins of circumstance\\r\\n  Urging his terrible advance\\r\\n  The while you cry in your despair,\\r\\n  \"The pain is more than I can bear!\"\\r\\n\\r\\n  Fear not the goad, fear not the pace,\\r\\n  Plead not to fall from out the race--\\r\\n  It is your own Self driving you,\\r\\n  Your Self that you have never known,\\r\\n  Seeing your little self alone.\\r\\n  Your Self, high-seated charioteer,\\r\\n  Master of cowardice and fear,\\r\\n  Your Self that sees the shining length\\r\\n  Of all the fearful road ahead,\\r\\n  Knows that the terrors that you dread\\r\\n  Are pigmies to your splendid strength;\\r\\n  Strength you have never even guessed,\\r\\n  Strength that has never needed rest.\\r\\n  Your Self that holds the mastering rein,\\r\\n  Seeing beyond the sweat and pain\\r\\n  And anguish of your driven soul,\\r\\n  The patient beauty of the goal!\\r\\n\\r\\n  Fighting upon the terror field\\r\\n  Where man and Fate came breast to breast,\\r\\n  Prest by a thousand foes to yield,\\r\\n  Tortured and wounded without rest,\\r\\n  You cried: \"Be merciful, O Life--\\r\\n  The strongest spirit soon must break\\r\\n  Before this all-unequal strife,\\r\\n  This endless fight for failure\\'s sake!\"\\r\\n  But Fate, unheeding, lifted high\\r\\n  His sword, and thrust you through to die,\\r\\n  And then there came one strong and great,\\r\\n  Who towered high o\\'er Chance and Fate,\\r\\n  Who bound your wound and eased your pain\\r\\n  And bade you rise and fight again.\\r\\n  And from some source you did not guess\\r\\n  Gushed a great tide of happiness--\\r\\n  A courage mightier than the sun--\\r\\n  You rose and fought and, fighting, won!', mimetype='text/plain', start_char_idx=67133, end_char_idx=71040, metadata_seperator='\\n', text_template='{metadata_str}\\n\\n{content}'), score=0.32537454), NodeWithScore(node=TextNode(id_='46097f02-991e-4b92-9954-07359e418bc0', embedding=None, metadata={'file_path': '../data/pg10763.txt', 'file_name': 'pg10763.txt', 'file_type': 'text/plain', 'file_size': 405150, 'creation_date': '2025-09-19', 'last_modified_date': '2025-09-05'}, excluded_embed_metadata_keys=['file_name', 'file_type', 'file_size', 'creation_date', 'last_modified_date', 'last_accessed_date'], excluded_llm_metadata_keys=['file_name', 'file_type', 'file_size', 'creation_date', 'last_modified_date', 'last_accessed_date'], relationships={<NodeRelationship.SOURCE: '1'>: RelatedNodeInfo(node_id='../data/pg10763.txt', node_type='4', metadata={'file_path': '../data/pg10763.txt', 'file_name': 'pg10763.txt', 'file_type': 'text/plain', 'file_size': 405150, 'creation_date': '2025-09-19', 'last_modified_date': '2025-09-05'}, hash='858a9e79c3e93620378f6d9959a1333d695c67acf64e4e9ab23e4b6a89db2653'), <NodeRelationship.PREVIOUS: '2'>: RelatedNodeInfo(node_id='7e6b3e31-c4cd-45e8-9f69-7fb4e58b89e4', node_type='1', metadata={'file_path': '../data/pg10763.txt', 'file_name': 'pg10763.txt', 'file_type': 'text/plain', 'file_size': 405150, 'creation_date': '2025-09-19', 'last_modified_date': '2025-09-05'}, hash='b62297b41de5112a7ed516b9267bbac69b4fb23f44eb6fbce9f3d4654dee210f'), <NodeRelationship.NEXT: '3'>: RelatedNodeInfo(node_id='f7ce6fa9-077f-435a-aa37-a720636b8f65', node_type='1', metadata={}, hash='9d3278ac039f585e0348bcff4b3758c4487b4ae22750123009b89cc279441dd2')}, metadata_template='{key}: {value}', metadata_separator='\\n', text='Fighting upon the terror field\\r\\n  Where man and Fate came breast to breast,\\r\\n  Prest by a thousand foes to yield,\\r\\n  Tortured and wounded without rest,\\r\\n  You cried: \"Be merciful, O Life--\\r\\n  The strongest spirit soon must break\\r\\n  Before this all-unequal strife,\\r\\n  This endless fight for failure\\'s sake!\"\\r\\n  But Fate, unheeding, lifted high\\r\\n  His sword, and thrust you through to die,\\r\\n  And then there came one strong and great,\\r\\n  Who towered high o\\'er Chance and Fate,\\r\\n  Who bound your wound and eased your pain\\r\\n  And bade you rise and fight again.\\r\\n  And from some source you did not guess\\r\\n  Gushed a great tide of happiness--\\r\\n  A courage mightier than the sun--\\r\\n  You rose and fought and, fighting, won!\\r\\n\\r\\n  It was your own Self saving you,\\r\\n  Your Self no man has ever known,\\r\\n  Looking on flesh and blood alone.\\r\\n  That Self that lives so close to God\\r\\n  As roots that feed upon the sod.\\r\\n  That one who stands behind the screen,\\r\\n  Looks through the window of your eyes--\\r\\n  A being out of Paradise.\\r\\n  The Self no human eye has seen,\\r\\n  The living one who never tires,\\r\\n  Fed by the deep eternal fires.\\r\\n  Your flaming Self, with two-edged sword,\\r\\n  Made in the likeness of the Lord,\\r\\n  Angel and guardian at the gate,\\r\\n  Master of Death and King of Fate!\\r\\n\\r\\n\\r\\n_Angela Morgan._\\r\\n\\r\\nFrom \"The Hour Has Struck.\"\\r\\n\\r\\n\\r\\n\\r\\n\\r\\nJUST WHISTLE\\r\\n\\r\\n\\r\\nThere is a psychological benefit in the mere physical act of whistling.\\r\\nWhen the body makes music, the spirit falls into harmonies too and the\\r\\ndiscords that assail us cease to make themselves heard.\\r\\n\\r\\n\\r\\n  When times are bad an\\' folks are sad\\r\\n    An\\' gloomy day by day,\\r\\n  Jest try your best at lookin\\' glad\\r\\n    An\\' whistle \\'em away.\\r\\n\\r\\n  Don\\'t mind how troubles bristle,\\r\\n  Jest take a rose or thistle.\\r\\n    Hold your own\\r\\n  An\\' change your tone\\r\\n  An\\' whistle, whistle, whistle!\\r\\n\\r\\n  A song is worth a world o\\' sighs.\\r\\n    When red the lightnings play,\\r\\n  Look for the rainbow in the skies\\r\\n    An\\' whistle \\'em away.\\r\\n\\r\\n  Don\\'t mind how troubles bristle,\\r\\n  The rose comes with the thistle.\\r\\n    Hold your own\\r\\n  An\\' change your tone\\r\\n  An\\' whistle, whistle, whistle!\\r\\n\\r\\n  Each day comes with a life that\\'s new,\\r\\n    A strange, continued story\\r\\n  But still beneath a bend o\\' blue\\r\\n    The world rolls on to glory.\\r\\n\\r\\n  Don\\'t mind how troubles bristle,\\r\\n  Jest take a rose or thistle.\\r\\n    Hold your own\\r\\n  An\\' change your tone\\r\\n  An\\' whistle, whistle, whistle!\\r\\n\\r\\n\\r\\n_Frank L. Stanton._\\r\\n\\r\\n\\r\\n\\r\\n[Illustration: GRANTLAND RICE]\\r\\n\\r\\n\\r\\n\\r\\n\\r\\n\"MIGHT HAVE BEEN\"\\r\\n\\r\\n\\r\\n\"Yes, it\\'s pretty hard,\" the optimistic old woman admitted. \"I have to\\r\\nget along with only two teeth, one in the upper jaw and one in the\\r\\nlower--but thank God, they meet.\"\\r\\n\\r\\n\\r\\n  Here\\'s to \"The days that might have been\";\\r\\n    Here\\'s to \"The life I might have led\";\\r\\n  The fame I might have gathered in--\\r\\n    The glory ways I might have sped.\\r\\n  Great \"Might Have Been,\" I drink to you\\r\\n    Upon a throne where thousands hail--\\r\\n  And then--there looms another view--\\r\\n    I also \"might have been\" in jail.\\r\\n\\r\\n  O \"Land of Might Have Been,\" we turn\\r\\n    With aching hearts to where you wait;\\r\\n  Where crimson fires of glory burn,\\r\\n    And laurel crowns the guarding gate;\\r\\n  We may not see across your fields\\r\\n    The sightless skulls that knew their woe--\\r\\n  The broken spears--the shattered shields--\\r\\n    That \"might have been\" as truly so.\\r\\n\\r\\n  \"Of all sad words of tongue or pen\"--\\r\\n    So wails the poet in his pain--\\r\\n  The saddest are, \"It might have been,\"\\r\\n    And world-wide runs the dull refrain.\\r\\n  The saddest? Yes--but in the jar\\r\\n    This thought brings to me with its curse,\\r\\n  I sometimes think the gladdest are\\r\\n    \"It might have been a blamed sight worse.\"\\r\\n\\r\\n\\r\\n_Grantland Rice._\\r\\n\\r\\nFrom \"The Sportlight.\"\\r\\n\\r\\n\\r\\n\\r\\n\\r\\nTHE ONE\\r\\n\\r\\n\\r\\nIn our youth we picture ourselves as we will be in the future--not mere\\r\\ntypes of this or that kind of success, but above all and in all, Ideal\\r\\nMen. Then come the years and the struggles, and we are buffeted and\\r\\nbaffled, and our very ideal is eclipsed.', mimetype='text/plain', start_char_idx=70324, end_char_idx=74346, metadata_seperator='\\n', text_template='{metadata_str}\\n\\n{content}'), score=0.32320404), NodeWithScore(node=TextNode(id_='5a9b1d8b-3a84-482d-9ee9-8237fbf50142', embedding=None, metadata={'file_path': '../data/pg10763.txt', 'file_name': 'pg10763.txt', 'file_type': 'text/plain', 'file_size': 405150, 'creation_date': '2025-09-19', 'last_modified_date': '2025-09-05'}, excluded_embed_metadata_keys=['file_name', 'file_type', 'file_size', 'creation_date', 'last_modified_date', 'last_accessed_date'], excluded_llm_metadata_keys=['file_name', 'file_type', 'file_size', 'creation_date', 'last_modified_date', 'last_accessed_date'], relationships={<NodeRelationship.SOURCE: '1'>: RelatedNodeInfo(node_id='../data/pg10763.txt', node_type='4', metadata={'file_path': '../data/pg10763.txt', 'file_name': 'pg10763.txt', 'file_type': 'text/plain', 'file_size': 405150, 'creation_date': '2025-09-19', 'last_modified_date': '2025-09-05'}, hash='858a9e79c3e93620378f6d9959a1333d695c67acf64e4e9ab23e4b6a89db2653'), <NodeRelationship.PREVIOUS: '2'>: RelatedNodeInfo(node_id='49235a7b-c4e3-4d12-8849-233e94ba1239', node_type='1', metadata={'file_path': '../data/pg10763.txt', 'file_name': 'pg10763.txt', 'file_type': 'text/plain', 'file_size': 405150, 'creation_date': '2025-09-19', 'last_modified_date': '2025-09-05'}, hash='365370dbf5a33fb89792e7097099ae677481df9da1f5ae6aab326bed9b849b18'), <NodeRelationship.NEXT: '3'>: RelatedNodeInfo(node_id='a665a5d3-489d-483f-816e-4c1b1f34f464', node_type='1', metadata={}, hash='b576157d40bd6761f2f67a22a2ce4e98fc512d8fbbc748d67b471d7061629aa5')}, metadata_template='{key}: {value}', metadata_separator='\\n', text='With the Right shall many more\\r\\n  Enter, smiling at the door;\\r\\n  With the giant Wrong shall fall\\r\\n  Many others great and small,\\r\\n  That for ages long have held us\\r\\n      For their prey.\\r\\n  Men of thought and men of action,\\r\\n      Clear the way!\\r\\n\\r\\n\\r\\n_Charles Mackay._\\r\\n\\r\\n\\r\\n\\r\\n\\r\\nONE FIGHT MORE\\r\\n\\r\\n\\r\\nWe need not expect much of the man who, when defeated, gives way either\\r\\nto despair or to a wild impulse for immediate revenge. But from the man\\r\\nwho stores up his strength quietly and bides his time for a new effort,\\r\\nwe may expect everything.\\r\\n\\r\\n\\r\\n  Now, think you, Life, I am defeated quite?\\r\\n    More than a single battle shall be mine\\r\\n  Before I yield the sword and give the sign\\r\\n    And turn, a crownless outcast, to the night.\\r\\n  Wounded, and yet unconquered in the fight,\\r\\n    I wait in silence till the day may shine\\r\\n  Once more upon my strength, and all the line\\r\\n    Of your defenses break before my might.\\r\\n\\r\\n  Mine be that warrior\\'s blood who, stricken sore,\\r\\n    Lies in his quiet chamber till he hears\\r\\n  Afar the clash and clang of arms, and knows\\r\\n    The cause he lived for calls for him once more;\\r\\n  And straightway rises, whole and void of fears,\\r\\n    And armed, turns him singing to his foes.\\r\\n\\r\\n\\r\\n_Theodosia Garrison._\\r\\n\\r\\nFrom \"The Earth Cry.\"\\r\\n\\r\\n\\r\\n\\r\\n\\r\\nA PSALM OF LIFE\\r\\n\\r\\nAt times this existence of ours seems to be meaningless; whether we have\\r\\nsucceeded or whether we have failed appears to make little difference to\\r\\nus, and therefore effort seems scarcely worth while. But Longfellow\\r\\ntells us this view is all wrong. The past can take care of itself, and\\r\\nwe need not even worry very much about the future; but if we are true to\\r\\nour own natures, we must be up and doing in the present. Time is short,\\r\\nand mastery in any field of human activity is so long a process that it\\r\\nforbids us to waste our moments. Yet we must learn also how to wait and\\r\\nendure. In short, we must not become slaves to either indifference or\\r\\nimpatience, but must make it our business to play a man\\'s part in life.\\r\\n\\r\\n\\r\\n  Tell me not, in mournful numbers,\\r\\n    Life is but an empty dream!--\\r\\n  For the soul is dead that slumbers,\\r\\n    And things are not what they seem.\\r\\n\\r\\n  Life is real! Life is earnest!\\r\\n    And the grave is not its goal;\\r\\n  Dust thou art, to dust returnest,\\r\\n    Was not spoken of the soul.\\r\\n\\r\\n  Not enjoyment, and not sorrow,\\r\\n    Is our destined end or way;\\r\\n  But to act, that each to-morrow\\r\\n    Find us farther than to-day.\\r\\n\\r\\n  Art is long, and Time is fleeting,\\r\\n    And our hearts, though stout and brave,\\r\\n  Still, like muffled drums, are beating\\r\\n    Funeral marches to the grave.\\r\\n\\r\\n  In the world\\'s broad field of battle,\\r\\n    In the bivouac of Life,\\r\\n  Be not like dumb, driven cattle!\\r\\n    Be a hero in the strife!\\r\\n\\r\\n  Trust no Future, howe\\'er pleasant!\\r\\n    Let the dead Past bury its dead!\\r\\n  Act,--act in the living Present!\\r\\n    Heart within, and God o\\'erhead!\\r\\n\\r\\n  Lives of great men all remind us\\r\\n    We can make our lives sublime,\\r\\n  And, departing, leave behind us\\r\\n    Footprints on the sands of time;\\r\\n\\r\\n  Footprints, that perhaps another,\\r\\n    Sailing o\\'er life\\'s solemn main,\\r\\n  A forlorn and shipwrecked brother,\\r\\n    Seeing, shall take heart again.\\r\\n\\r\\n  Let us, then, be up and doing,\\r\\n    With a heart for any fate;\\r\\n  Still achieving, still pursuing,\\r\\n    Learn to labor and to wait.\\r\\n\\r\\n\\r\\n_Henry Wadsworth Longfellow._\\r\\n\\r\\n\\r\\n\\r\\n\\r\\nA CREED\\r\\n\\r\\nMen may seem sundered from each other; but the soul that each possesses,\\r\\nand the destiny common to all, invest them with a basic brotherhood.\\r\\n\\r\\n\\r\\n  There is a destiny that makes us brothers:\\r\\n    None goes his way alone:\\r\\n  All that we send into the lives of others\\r\\n    Comes back into our own.\\r\\n\\r\\n  I care not what his temples or his creeds,\\r\\n    One thing holds firm and fast--\\r\\n  That into his fateful heap of days and deeds\\r\\n    The soul of a man is cast.\\r\\n\\r\\n\\r\\n_Edwin Markham_\\r\\n\\r\\nFrom \"Lincoln, and Other Poems.\"\\r\\n\\r\\n\\r\\n\\r\\n\\r\\nBATTLE CRY\\r\\n\\r\\nWe should win if we can. But in any case we should prove our manhood by\\r\\nfighting.', mimetype='text/plain', start_char_idx=221407, end_char_idx=225430, metadata_seperator='\\n', text_template='{metadata_str}\\n\\n{content}'), score=0.3219533), NodeWithScore(node=TextNode(id_='52330011-c0eb-49e7-89a6-d0c6a15d6dde', embedding=None, metadata={'file_path': '../data/pg10763.txt', 'file_name': 'pg10763.txt', 'file_type': 'text/plain', 'file_size': 405150, 'creation_date': '2025-09-19', 'last_modified_date': '2025-09-05'}, excluded_embed_metadata_keys=['file_name', 'file_type', 'file_size', 'creation_date', 'last_modified_date', 'last_accessed_date'], excluded_llm_metadata_keys=['file_name', 'file_type', 'file_size', 'creation_date', 'last_modified_date', 'last_accessed_date'], relationships={<NodeRelationship.SOURCE: '1'>: RelatedNodeInfo(node_id='../data/pg10763.txt', node_type='4', metadata={'file_path': '../data/pg10763.txt', 'file_name': 'pg10763.txt', 'file_type': 'text/plain', 'file_size': 405150, 'creation_date': '2025-09-19', 'last_modified_date': '2025-09-05'}, hash='858a9e79c3e93620378f6d9959a1333d695c67acf64e4e9ab23e4b6a89db2653'), <NodeRelationship.PREVIOUS: '2'>: RelatedNodeInfo(node_id='ff835db9-a518-44b8-aa0a-9483bfa58f28', node_type='1', metadata={'file_path': '../data/pg10763.txt', 'file_name': 'pg10763.txt', 'file_type': 'text/plain', 'file_size': 405150, 'creation_date': '2025-09-19', 'last_modified_date': '2025-09-05'}, hash='be6ba76474ee004bcd94c8890924f75dfd8f6636bd1bf73d6d99765bad1b745f'), <NodeRelationship.NEXT: '3'>: RelatedNodeInfo(node_id='62bd7c6e-7638-4792-92f8-26003e34ab12', node_type='1', metadata={}, hash='8845185873b45dd1566048a960f1a67bad2eb718b5ecc43be62603d2e03792d8')}, metadata_template='{key}: {value}', metadata_separator='\\n', text='One man is afraid that he\\'ll labor too hard--the\\r\\n  world isn\\'t yearning for such; and one man is always alert, on\\r\\n  his guard, lest he put in a minute too much; and one has a\\r\\n  grouch or a temper that\\'s bad, and one is a creature of moods;\\r\\n  so it\\'s hey for the joyous and rollicking lad--for the One Who\\r\\n  Delivers the Goods!\\r\\n\\r\\n\\r\\n_Walt Mason._\\r\\n\\r\\nFrom \"Walt Mason, His Book.\"\\r\\n\\r\\n\\r\\n\\r\\n\\r\\nTHE QUITTER\\r\\n\\r\\n\\r\\nIn the famous naval duel between the _Bonhomme Richard_ and the\\r\\n_Serapis_, John Paul Jones was hailed by his adversary to know whether\\r\\nhe struck his colors. \"I have not yet begun to fight,\" was his answer.\\r\\nWhen the surrender took place, it was not Jones\\'s ship that became the\\r\\nprize of war. Everybody admires a hard fighter--the man who takes\\r\\nbuffets standing up, and in a spirit of \"Never say die\" is always ready\\r\\nfor more.\\r\\n\\r\\n\\r\\n  When you\\'re lost in the wild and you\\'re scared as a child,\\r\\n    And death looks you bang in the eye;\\r\\n  And you\\'re sore as a boil, it\\'s according to Hoyle\\r\\n    To cock your revolver and die.\\r\\n  But the code of a man says fight all you can,\\r\\n    And self-dissolution is barred;\\r\\n  In hunger and woe, oh it\\'s easy to blow--\\r\\n    It\\'s the hell served for breakfast that\\'s hard.\\r\\n\\r\\n  You\\'re sick of the game? Well now, that\\'s a shame!\\r\\n    You\\'re young and you\\'re brave and you\\'re bright.\\r\\n  You\\'ve had a raw deal, I know, but don\\'t squeal.\\r\\n    Buck up, do your damnedest and fight!\\r\\n  It\\'s the plugging away that will win you the day,\\r\\n    So don\\'t be a piker, old pard;\\r\\n  Just draw on your grit; it\\'s so easy to quit--\\r\\n    It\\'s the keeping your chin up that\\'s hard.\\r\\n\\r\\n  It\\'s easy to cry that you\\'re beaten and die,\\r\\n    It\\'s easy to crawfish and crawl,\\r\\n  But to fight and to fight when hope\\'s out of sight,\\r\\n    Why, that\\'s the best game of them all.\\r\\n  And though you come out of each grueling bout,\\r\\n    All broken and beaten and scarred--\\r\\n  Just have one more try. It\\'s dead easy to die,\\r\\n    It\\'s the keeping on living that\\'s hard.\\r\\n\\r\\n\\r\\n_Robert W. Service._\\r\\n\\r\\nFrom \"Rhymes of a Rolling Stone.\"\\r\\n\\r\\n\\r\\n\\r\\n[Illustration: ROBERT WILLIAM SERVICE]\\r\\n\\r\\n\\r\\n\\r\\n\\r\\nFRIENDS OF MINE\\r\\n\\r\\n\\r\\nWe like to be hospitable. To what should we be more hospitable than a\\r\\nglad spirit or a kind impulse?\\r\\n\\r\\n\\r\\n  Good-morning, Brother Sunshine,\\r\\n    Good-morning, Sister Song,\\r\\n  I beg your humble pardon\\r\\n    If you\\'ve waited very long.\\r\\n  I thought I heard you rapping,\\r\\n    To shut you out were sin,\\r\\n  My heart is standing open,\\r\\n    Won\\'t you\\r\\n      walk\\r\\n        right\\r\\n          in?\\r\\n\\r\\n  Good-morning, Brother Gladness,\\r\\n    Good-morning, Sister Smile,\\r\\n  They told me you were coming,\\r\\n    So I waited on a while.\\r\\n  I\\'m lonesome here without you,\\r\\n    A weary while it\\'s been,\\r\\n  My heart is standing open,\\r\\n    Won\\'t you\\r\\n      walk\\r\\n        right\\r\\n          in?\\r\\n\\r\\n  Good-morning, Brother Kindness,\\r\\n    Good-morning, Sister Cheer,\\r\\n  I heard you were out calling,\\r\\n    So I waited for you here.\\r\\n  Some way, I keep forgetting\\r\\n    I have to toil or spin\\r\\n  When you are my companions,\\r\\n    Won\\'t you\\r\\n      walk\\r\\n        right\\r\\n          in?\\r\\n\\r\\n\\r\\n_James W. Foley._\\r\\n\\r\\nFrom \"The Voices of Song.\"\\r\\n\\r\\n\\r\\n\\r\\n\\r\\nTHE WOMAN WHO UNDERSTANDS\\r\\n\\r\\n\\r\\n\"Is this the little woman that made this great war?\" was Lincoln\\'s\\r\\ngreeting to Harriet Beecher Stowe. Often a woman is responsible for\\r\\nevents by whose crash and splendor she herself is obscured. Often too\\r\\nshe shapes the career of husband or brother or son. A man succeeds and\\r\\nreaps the honors of public applause, when in truth a quiet little woman\\r\\nhas made it all possible--has by her tact and encouragement held him to\\r\\nhis best, has had faith in him when his own faith has languished, has\\r\\ncheered him with the unfailing assurance, \"You can, you must, you will.\"', mimetype='text/plain', start_char_idx=28311, end_char_idx=32049, metadata_seperator='\\n', text_template='{metadata_str}\\n\\n{content}'), score=0.32002053)], metadata={'3e712da1-abfb-421a-adda-c239aca95903': {'file_path': '../data/pg10763.txt', 'file_name': 'pg10763.txt', 'file_type': 'text/plain', 'file_size': 405150, 'creation_date': '2025-09-19', 'last_modified_date': '2025-09-05'}, '830674d5-0c94-4a95-902f-db2119c73cd0': {'file_path': '../data/pg10763.txt', 'file_name': 'pg10763.txt', 'file_type': 'text/plain', 'file_size': 405150, 'creation_date': '2025-09-19', 'last_modified_date': '2025-09-05'}, 'a665a5d3-489d-483f-816e-4c1b1f34f464': {'file_path': '../data/pg10763.txt', 'file_name': 'pg10763.txt', 'file_type': 'text/plain', 'file_size': 405150, 'creation_date': '2025-09-19', 'last_modified_date': '2025-09-05'}, '97fc2d6f-ed66-4b74-b97a-2795ee9b93b2': {'file_path': '../data/pg10763.txt', 'file_name': 'pg10763.txt', 'file_type': 'text/plain', 'file_size': 405150, 'creation_date': '2025-09-19', 'last_modified_date': '2025-09-05'}, '7e6b3e31-c4cd-45e8-9f69-7fb4e58b89e4': {'file_path': '../data/pg10763.txt', 'file_name': 'pg10763.txt', 'file_type': 'text/plain', 'file_size': 405150, 'creation_date': '2025-09-19', 'last_modified_date': '2025-09-05'}, '46097f02-991e-4b92-9954-07359e418bc0': {'file_path': '../data/pg10763.txt', 'file_name': 'pg10763.txt', 'file_type': 'text/plain', 'file_size': 405150, 'creation_date': '2025-09-19', 'last_modified_date': '2025-09-05'}, '5a9b1d8b-3a84-482d-9ee9-8237fbf50142': {'file_path': '../data/pg10763.txt', 'file_name': 'pg10763.txt', 'file_type': 'text/plain', 'file_size': 405150, 'creation_date': '2025-09-19', 'last_modified_date': '2025-09-05'}, '52330011-c0eb-49e7-89a6-d0c6a15d6dde': {'file_path': '../data/pg10763.txt', 'file_name': 'pg10763.txt', 'file_type': 'text/plain', 'file_size': 405150, 'creation_date': '2025-09-19', 'last_modified_date': '2025-09-05'}})"
      ]
     },
     "execution_count": 26,
     "metadata": {},
     "output_type": "execute_result"
    }
   ],
   "source": [
    "query_engine.query(\"Compare the portrayal of internal versus external battles in the narratives and poems\")"
   ]
  },
  {
   "cell_type": "code",
   "execution_count": 16,
   "metadata": {},
   "outputs": [],
   "source": [
    "client.close()"
   ]
  },
  {
   "cell_type": "markdown",
   "metadata": {},
   "source": [
    "# JC Takeaway\n",
    "\n",
    "Re-implement the whole thing:\n",
    "\n",
    "1. Load env variables from .env;\n",
    "2. Build a RAG chatbot using Cohere LLM and the \"it_can_be_done\" collection that we stored in Qdrant vector database.\n"
   ]
  },
  {
   "cell_type": "code",
   "execution_count": 49,
   "metadata": {},
   "outputs": [
    {
     "name": "stdout",
     "output_type": "stream",
     "text": [
      "The shortest poem in this collection is \"Keep A-Goin'!\""
     ]
    }
   ],
   "source": [
    "import os\n",
    "import nest_asyncio\n",
    "import dotenv\n",
    "import getpass\n",
    "\n",
    "import qdrant_client as qdrant\n",
    "import llama_index.core as li\n",
    "import llama_index.vector_stores.qdrant as vs_qdrant  \n",
    "import llama_index.embeddings.cohere as emb_cohere\n",
    "import llama_index.llms.cohere as llm_cohere\n",
    "\n",
    "nest_asyncio.apply()\n",
    "dotenv.load_dotenv()\n",
    "\n",
    "CO_API_KEY = os.getenv('CO_API_KEY') or getpass.getpass(\"Enter your Cohere API key: \")\n",
    "QDRANT_URL = os.getenv('QDRANT_URL') or getpass.getpass(\"Enter your Qdrant URL:\")\n",
    "QDRANT_API_KEY = os.getenv('QDRANT_API_KEY') or getpass.getpass(\"Enter your Qdrant API Key: \")\n",
    "\n",
    "embed_model = emb_cohere.CohereEmbedding(\n",
    "    api_key=CO_API_KEY, \n",
    "    model_name=\"embed-english-light-v3.0\"\n",
    ")\n",
    "llm = llm_cohere.Cohere(\n",
    "    model=\"command-r-plus-08-2024\", \n",
    "    api_key=CO_API_KEY, \n",
    "    max_tokens=512\n",
    ")\n",
    "qdrant_client = qdrant.QdrantClient(\n",
    "    api_key=QDRANT_API_KEY,\n",
    "    url=QDRANT_URL, \n",
    ")\n",
    "vector_store = vs_qdrant.QdrantVectorStore(\n",
    "    client=qdrant_client, \n",
    "    collection_name=\"it_can_be_done\",\n",
    "#    embed_model=embed_model,\n",
    ")\n",
    "# storage_context = li.\n",
    "index = li.VectorStoreIndex.from_vector_store(\n",
    "    vector_store=vector_store, \n",
    "    embed_model=embed_model\n",
    ")\n",
    "\n",
    "query_engine = index.as_query_engine(llm=llm, streaming=True)\n",
    "response = query_engine.query(\n",
    "    \"What's the shortest poem in this book?\"\n",
    ")\n",
    "response.print_response_stream()\n",
    "\n",
    "# index.as_chat_engine(llm=llm).streaming_chat_repl()"
   ]
  },
  {
   "cell_type": "code",
   "execution_count": null,
   "metadata": {},
   "outputs": [],
   "source": []
  }
 ],
 "metadata": {
  "kernelspec": {
   "display_name": "Latest for LlamaIndex (LinkedIn Learning)",
   "language": "python",
   "name": "latest_lil_llama_index"
  },
  "language_info": {
   "codemirror_mode": {
    "name": "ipython",
    "version": 3
   },
   "file_extension": ".py",
   "mimetype": "text/x-python",
   "name": "python",
   "nbconvert_exporter": "python",
   "pygments_lexer": "ipython3",
   "version": "3.12.1"
  }
 },
 "nbformat": 4,
 "nbformat_minor": 2
}
