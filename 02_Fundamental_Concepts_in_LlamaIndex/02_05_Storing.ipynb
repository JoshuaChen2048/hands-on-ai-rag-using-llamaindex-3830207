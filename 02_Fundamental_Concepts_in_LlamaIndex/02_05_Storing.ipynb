{
 "cells": [
  {
   "cell_type": "code",
   "execution_count": null,
   "metadata": {},
   "outputs": [],
   "source": [
    "%%capture\n",
    "!pip install llama-index==0.10.37 cohere==5.5.0 openai==1.30.1 llama-index-embeddings-openai==0.1.9 llama-index-llms-cohere==0.2.0 qdrant-client==1.9.1 llama-index-vector-stores-qdrant==0.2.8 "
   ]
  },
  {
   "cell_type": "code",
   "execution_count": 1,
   "metadata": {},
   "outputs": [
    {
     "data": {
      "text/plain": [
       "True"
      ]
     },
     "execution_count": 1,
     "metadata": {},
     "output_type": "execute_result"
    }
   ],
   "source": [
    "import os\n",
    "\n",
    "from getpass import getpass\n",
    "import nest_asyncio\n",
    "\n",
    "from dotenv import load_dotenv\n",
    "\n",
    "nest_asyncio.apply()\n",
    "\n",
    "load_dotenv()"
   ]
  },
  {
   "cell_type": "code",
   "execution_count": 2,
   "metadata": {},
   "outputs": [],
   "source": [
    "CO_API_KEY = os.environ['CO_API_KEY'] or getpass(\"Enter your Cohere API key: \")"
   ]
  },
  {
   "cell_type": "code",
   "execution_count": 3,
   "metadata": {},
   "outputs": [],
   "source": [
    "OPENAI_API_KEY = os.environ['OPENAI_API_KEY'] or getpass(\"Enter your OpenAI API key: \")"
   ]
  },
  {
   "cell_type": "code",
   "execution_count": 4,
   "metadata": {},
   "outputs": [],
   "source": [
    "QDRANT_URL = os.environ['QDRANT_URL'] or getpass(\"Enter your Qdrant URL:\")"
   ]
  },
  {
   "cell_type": "code",
   "execution_count": 5,
   "metadata": {},
   "outputs": [],
   "source": [
    "QDRANT_API_KEY = os.environ['QDRANT_API_KEY'] or  getpass(\"Enter your Qdrant API Key:\")"
   ]
  },
  {
   "cell_type": "code",
   "execution_count": null,
   "metadata": {},
   "outputs": [],
   "source": [
    "from pathlib import Path\n",
    "\n",
    "def create_directory(directory_name):\n",
    "    path = Path(directory_name)\n",
    "    path.mkdir(parents=True, exist_ok=True)\n",
    "    print(f\"Directory '{directory_name}' created successfully.\")\n",
    "\n",
    "create_directory(\"data\")"
   ]
  },
  {
   "cell_type": "code",
   "execution_count": null,
   "metadata": {},
   "outputs": [],
   "source": [
    "!wget -P data https://www.gutenberg.org/cache/epub/10763/pg10763.txt "
   ]
  },
  {
   "cell_type": "markdown",
   "metadata": {},
   "source": [
    "# 🗄️ Storing\n",
    "\n",
    "Loading and indexing data costs time and money.\n",
    "\n",
    "By default, indexed data is stored in memory. But, you can store your data to avoid the time and costs associated with re-indexing them.  The simplest way to do this **persisting to disk**.\n",
    "\n",
    "Each `Index` object has a `.persist()` method, which will write all the data to disk at the specified location."
   ]
  },
  {
   "cell_type": "markdown",
   "metadata": {},
   "source": [
    "Now that we've dowloaded data, let's:\n",
    "\n",
    "1) Load as Document\n",
    "2) Parse as Nodes\n",
    "3) Create index"
   ]
  },
  {
   "cell_type": "code",
   "execution_count": 7,
   "metadata": {},
   "outputs": [],
   "source": [
    "from llama_index.core import SimpleDirectoryReader\n",
    "\n",
    "# file_path = \"data/pg10763.txt\"\n",
    "# JC code\n",
    "file_path = \"../data/pg10763.txt\"\n",
    "\n",
    "document = SimpleDirectoryReader(input_files=[file_path], filename_as_id=True).load_data()"
   ]
  },
  {
   "cell_type": "code",
   "execution_count": 8,
   "metadata": {},
   "outputs": [],
   "source": [
    "# Create Node parser\n",
    "from llama_index.core.node_parser import SentenceSplitter\n",
    "\n",
    "sentence_splitter = SentenceSplitter(\n",
    "    chunk_size=512, \n",
    "    chunk_overlap=16,\n",
    "    paragraph_separator=\"\\n\\n\\n\\n\" \n",
    ")"
   ]
  },
  {
   "cell_type": "code",
   "execution_count": 13,
   "metadata": {},
   "outputs": [],
   "source": [
    "# Instantiate embedding model\n",
    "# from llama_index.embeddings.openai import OpenAIEmbedding\n",
    "# embed_model = OpenAIEmbedding(model_name=\"text-embedding-3-small\")\n",
    "\n",
    "# JC code\n",
    "from llama_index.embeddings.cohere import CohereEmbedding\n",
    "\n",
    "# embed_v3 = CohereEmbedding(api_key=CO_API_KEY,model_name=\"embed-english-v3.0\")\n",
    "embed_model = CohereEmbedding(api_key=CO_API_KEY,model_name=\"embed-english-light-v3.0\")\n"
   ]
  },
  {
   "cell_type": "markdown",
   "metadata": {},
   "source": [
    "# ☁️ Using a Vector Database\n",
    "\n",
    "We'll use qdrant as our vector database of choice throughout this course.\n",
    "\n",
    "To use qdrant to store embeddings from the `VectorStoreIndex`, you need to:\n",
    "\n",
    "- Initialize the qdrant client\n",
    "\n",
    "- Create a `Collection` to store your data in qdrant\n",
    "\n",
    "- Assign qdrant as the `vector_store` in a `StorageContext`\n",
    "\n",
    "- Initialize your `VectorStoreIndex` using that `StorageContext`\n",
    "\n",
    "Below, we initialize a `QdrantClient` for interacting with qdrant, an open-source vector store. \n"
   ]
  },
  {
   "cell_type": "code",
   "execution_count": 14,
   "metadata": {},
   "outputs": [
    {
     "name": "stderr",
     "output_type": "stream",
     "text": [
      "2025-09-19 05:38:38,817 - INFO - HTTP Request: GET https://ee73f8ce-826d-49d8-a961-754dfeac8b0c.us-east-1-1.aws.cloud.qdrant.io:6333 \"HTTP/1.1 200 OK\"\n",
      "2025-09-19 05:38:38,875 - INFO - HTTP Request: GET https://ee73f8ce-826d-49d8-a961-754dfeac8b0c.us-east-1-1.aws.cloud.qdrant.io:6333/collections/it_can_be_done/exists \"HTTP/1.1 200 OK\"\n"
     ]
    }
   ],
   "source": [
    "import qdrant_client\n",
    "from llama_index.vector_stores.qdrant import QdrantVectorStore\n",
    "\n",
    "# initialize qdrant client\n",
    "client = qdrant_client.QdrantClient(\n",
    "    url=QDRANT_URL, \n",
    "    api_key=QDRANT_API_KEY,\n",
    ")\n",
    "\n",
    "vector_store = QdrantVectorStore(\n",
    "    client=client, \n",
    "    collection_name=\"it_can_be_done\",\n",
    "    embed_model=embed_model,\n",
    ")"
   ]
  },
  {
   "cell_type": "markdown",
   "metadata": {},
   "source": [
    "# 🗃️ Storage Context\n",
    "\n",
    "`StorageContext` in `LlamaIndex` is a core abstraction that revolves around the storage of `Nodes`, indices, and vectors.  It facilitates data storage and retrieval.\n",
    "\n",
    "It is a utility container that supports the following:\n",
    "\n",
    " - `docstore`: A [`BaseDocumentStore`](https://github.com/run-llama/llama_index/blob/main/llama-index-core/llama_index/core/storage/docstore/types.py) for storing nodes.\n",
    "\n",
    " - `index_store`: A [`BaseIndexStore`](https://github.com/run-llama/llama_index/blob/main/llama-index-core/llama_index/core/storage/index_store/types.py#L13) for storing indices.\n",
    "\n",
    " - `vector_store`: A [`VectorStore`](https://github.com/run-llama/llama_index/blob/main/llama-index-core/llama_index/core/vector_stores/simple.py) for storing vectors.\n",
    "\n",
    " - `graph_store`: A [`GraphStore`](https://github.com/run-llama/llama_index/blob/main/llama-index-core/llama_index/core/graph_stores/simple.py) for storing knowledge graphs.\n",
    "\n",
    "Below we instantiate the `StorageContext` from default settings indicating that we want to use a vector store."
   ]
  },
  {
   "cell_type": "code",
   "execution_count": 15,
   "metadata": {},
   "outputs": [],
   "source": [
    "from llama_index.core import StorageContext\n",
    "\n",
    "# assign qdrant vector store to storage context\n",
    "storage_context = StorageContext.from_defaults(\n",
    "    vector_store=vector_store,\n",
    "    )"
   ]
  },
  {
   "cell_type": "code",
   "execution_count": 16,
   "metadata": {},
   "outputs": [
    {
     "data": {
      "application/vnd.jupyter.widget-view+json": {
       "model_id": "613c29b9df4c4a6ca34125c1998c6826",
       "version_major": 2,
       "version_minor": 0
      },
      "text/plain": [
       "Parsing nodes:   0%|          | 0/1 [00:00<?, ?it/s]"
      ]
     },
     "metadata": {},
     "output_type": "display_data"
    },
    {
     "data": {
      "application/vnd.jupyter.widget-view+json": {
       "model_id": "eee61db90cdb4214b03b02dfeb83c4fb",
       "version_major": 2,
       "version_minor": 0
      },
      "text/plain": [
       "Generating embeddings:   0%|          | 0/126 [00:00<?, ?it/s]"
      ]
     },
     "metadata": {},
     "output_type": "display_data"
    },
    {
     "name": "stderr",
     "output_type": "stream",
     "text": [
      "2025-09-19 05:38:51,959 - INFO - HTTP Request: POST https://api.cohere.com/v2/embed \"HTTP/1.1 200 OK\"\n",
      "2025-09-19 05:38:52,140 - INFO - HTTP Request: POST https://api.cohere.com/v2/embed \"HTTP/1.1 200 OK\"\n",
      "2025-09-19 05:38:52,301 - INFO - HTTP Request: POST https://api.cohere.com/v2/embed \"HTTP/1.1 200 OK\"\n",
      "2025-09-19 05:38:52,442 - INFO - HTTP Request: POST https://api.cohere.com/v2/embed \"HTTP/1.1 200 OK\"\n",
      "2025-09-19 05:38:52,598 - INFO - HTTP Request: POST https://api.cohere.com/v2/embed \"HTTP/1.1 200 OK\"\n",
      "2025-09-19 05:38:52,736 - INFO - HTTP Request: POST https://api.cohere.com/v2/embed \"HTTP/1.1 200 OK\"\n",
      "2025-09-19 05:38:52,864 - INFO - HTTP Request: POST https://api.cohere.com/v2/embed \"HTTP/1.1 200 OK\"\n",
      "2025-09-19 05:38:53,000 - INFO - HTTP Request: POST https://api.cohere.com/v2/embed \"HTTP/1.1 200 OK\"\n",
      "2025-09-19 05:38:53,142 - INFO - HTTP Request: POST https://api.cohere.com/v2/embed \"HTTP/1.1 200 OK\"\n",
      "2025-09-19 05:38:53,271 - INFO - HTTP Request: POST https://api.cohere.com/v2/embed \"HTTP/1.1 200 OK\"\n",
      "2025-09-19 05:38:53,415 - INFO - HTTP Request: POST https://api.cohere.com/v2/embed \"HTTP/1.1 200 OK\"\n",
      "2025-09-19 05:38:53,550 - INFO - HTTP Request: POST https://api.cohere.com/v2/embed \"HTTP/1.1 200 OK\"\n",
      "2025-09-19 05:38:53,672 - INFO - HTTP Request: POST https://api.cohere.com/v2/embed \"HTTP/1.1 200 OK\"\n",
      "2025-09-19 05:38:53,905 - INFO - HTTP Request: PUT https://ee73f8ce-826d-49d8-a961-754dfeac8b0c.us-east-1-1.aws.cloud.qdrant.io:6333/collections/it_can_be_done \"HTTP/1.1 200 OK\"\n",
      "2025-09-19 05:38:54,022 - INFO - HTTP Request: PUT https://ee73f8ce-826d-49d8-a961-754dfeac8b0c.us-east-1-1.aws.cloud.qdrant.io:6333/collections/it_can_be_done/index?wait=true \"HTTP/1.1 200 OK\"\n",
      "2025-09-19 05:38:54,035 - INFO - HTTP Request: GET https://ee73f8ce-826d-49d8-a961-754dfeac8b0c.us-east-1-1.aws.cloud.qdrant.io:6333/collections/it_can_be_done \"HTTP/1.1 200 OK\"\n",
      "2025-09-19 05:38:54,194 - INFO - HTTP Request: PUT https://ee73f8ce-826d-49d8-a961-754dfeac8b0c.us-east-1-1.aws.cloud.qdrant.io:6333/collections/it_can_be_done/points?wait=true \"HTTP/1.1 200 OK\"\n",
      "2025-09-19 05:38:54,227 - INFO - HTTP Request: PUT https://ee73f8ce-826d-49d8-a961-754dfeac8b0c.us-east-1-1.aws.cloud.qdrant.io:6333/collections/it_can_be_done/points?wait=true \"HTTP/1.1 200 OK\"\n"
     ]
    }
   ],
   "source": [
    "from llama_index.core import  VectorStoreIndex\n",
    "\n",
    "# create the index\n",
    "index = VectorStoreIndex.from_documents(\n",
    "    document,\n",
    "    show_progress=True,\n",
    "    store_nodes_override=True,\n",
    "    transformation=[sentence_splitter],\n",
    "    embed_model=embed_model,\n",
    "    storage_context=storage_context,\n",
    ")"
   ]
  },
  {
   "cell_type": "markdown",
   "metadata": {},
   "source": [
    "# 🪃 Retrieval\n",
    "\n",
    "A `Retriever` is an interface exposed by the `Index`. An `Index` with its `Retriever` is used for storing and fetching data. The `Retriever` is a part of the `Index` and is used to retrieve the data stored in the Index.\n",
    "\n",
    "\n",
    "### LlamaIndex provides [many different types of retrievers](https://github.com/run-llama/llama_index/tree/main/llama-index-core/llama_index/core/retrievers) to fetch relevant information from ingested data based on a given query. \n",
    "\n",
    "Some examples include\n",
    "\n",
    "### Vector Retriever\n",
    "\n",
    "The vector retriever uses vector similarity search to find the most relevant nodes (chunks of text) based on the query embedding. It requires a vector database like to store and search through the node embeddings.\n",
    "\n",
    "### [Fusion Retriever](https://github.com/run-llama/llama_index/blob/main/llama-index-core/llama_index/core/retrievers/fusion_retriever.py)\n",
    "\n",
    "The fusion retriever generates multiple queries from the original query, performs retrieval over an ensemble of retrievers for each query, and then fuses and reranks the results across all queries. This aims to better capture the query intent through query rewriting and ensembling.\n",
    "\n",
    "### [Recursive Retriever](https://github.com/run-llama/llama_index/blob/main/llama-index-core/llama_index/core/retrievers/recursive_retriever.py)\n",
    "\n",
    "The recursive retriever allows for hierarchical retrieval by first retrieving coarse nodes and then recursively retrieving finer-grained nodes within those coarse nodes. This can be useful for multi-level indexing and retrieval.\n",
    "\n",
    "You can also combine retrievers in interesting ways and build out more advanced retrieval strategies, as we will see later in this course.\n",
    "\n",
    "\n",
    "### In the example here, we're using a Vector Retriever\n",
    "\n",
    " - 🔍 When searching, your query is also converted into a vector embedding. \n",
    " \n",
    "- 🗂️ The `VectorStoreIndex` then performs a mathematical operation to rank embeddings based on semantic similarity to your query.\n",
    "\n",
    "- 🔝 Top-k semantic retrieval is the simplest wasy to query a vector index.\n",
    "\n",
    "- ⩬ You can also apply a similarity threshold  (e.g., only return results that are more similar than some value)\n"
   ]
  },
  {
   "cell_type": "code",
   "execution_count": 17,
   "metadata": {},
   "outputs": [],
   "source": [
    "retirever = index.as_retriever(\n",
    "    similarity_top_k=5,\n",
    "    similarity_threshold=0.75)"
   ]
  },
  {
   "cell_type": "code",
   "execution_count": 18,
   "metadata": {},
   "outputs": [
    {
     "name": "stderr",
     "output_type": "stream",
     "text": [
      "2025-09-19 05:44:03,586 - INFO - HTTP Request: POST https://api.cohere.com/v2/embed \"HTTP/1.1 200 OK\"\n",
      "2025-09-19 05:44:03,636 - INFO - HTTP Request: POST https://ee73f8ce-826d-49d8-a961-754dfeac8b0c.us-east-1-1.aws.cloud.qdrant.io:6333/collections/it_can_be_done/points/search \"HTTP/1.1 200 OK\"\n"
     ]
    },
    {
     "data": {
      "text/plain": [
       "[NodeWithScore(node=TextNode(id_='7f1f750c-ee3a-4b88-8fc9-a9a1bb1baf40', embedding=None, metadata={'file_path': '../data/pg10763.txt', 'file_name': 'pg10763.txt', 'file_type': 'text/plain', 'file_size': 405150, 'creation_date': '2025-09-19', 'last_modified_date': '2025-09-05'}, excluded_embed_metadata_keys=['file_name', 'file_type', 'file_size', 'creation_date', 'last_modified_date', 'last_accessed_date'], excluded_llm_metadata_keys=['file_name', 'file_type', 'file_size', 'creation_date', 'last_modified_date', 'last_accessed_date'], relationships={<NodeRelationship.SOURCE: '1'>: RelatedNodeInfo(node_id='../data/pg10763.txt', node_type='4', metadata={'file_path': '../data/pg10763.txt', 'file_name': 'pg10763.txt', 'file_type': 'text/plain', 'file_size': 405150, 'creation_date': '2025-09-19', 'last_modified_date': '2025-09-05'}, hash='858a9e79c3e93620378f6d9959a1333d695c67acf64e4e9ab23e4b6a89db2653'), <NodeRelationship.PREVIOUS: '2'>: RelatedNodeInfo(node_id='374b6722-6a8f-4727-92bf-fc6886381d72', node_type='1', metadata={'file_path': '../data/pg10763.txt', 'file_name': 'pg10763.txt', 'file_type': 'text/plain', 'file_size': 405150, 'creation_date': '2025-09-19', 'last_modified_date': '2025-09-05'}, hash='967b0f1290581e0d1d895d046c0ef04cc9e2b0cbea25bfc3e8fa7713ab0cae01'), <NodeRelationship.NEXT: '3'>: RelatedNodeInfo(node_id='4a17907e-ff8b-4506-925d-3aa47c40c591', node_type='1', metadata={}, hash='1ea42dbd12ed3d2e0ae199b7b4a7f86943c8bdfe1b47d18ee19c53f6977c4ccf')}, metadata_template='{key}: {value}', metadata_separator='\\n', text='_Percy Bysshe Shelley._\\r\\n\\r\\n\\r\\n\\r\\n\\r\\nVICTORY IN DEFEAT\\r\\n\\r\\n\\r\\nThe great, radiant souls of earth--the Davids, the Shakespeares, the\\r\\nLincolns--know grief and affliction as well as joy and triumph. But\\r\\nadversity is never to them mere adversity; it\\r\\n\\r\\n  \"Doth suffer a sea-change\\r\\n  Into something rich and strange\";\\r\\n\\r\\nand in the crucible of character their suffering itself is transmuted\\r\\ninto song.\\r\\n\\r\\n\\r\\n  Defeat may serve as well as victory\\r\\n  To shake the soul and let the glory out.\\r\\n  When the great oak is straining in the wind,\\r\\n  The boughs drink in new beauty, and the trunk\\r\\n  Sends down a deeper root on the windward side.\\r\\n  Only the soul that knows the mighty grief\\r\\n  Can know the mighty rapture. Sorrows come\\r\\n  To stretch out spaces in the heart for joy.\\r\\n\\r\\n\\r\\n_Edwin Markham._\\r\\n\\r\\nFrom \"The Shoes of Happiness, and Other Poems.\"\\r\\n\\r\\n\\r\\n\\r\\n\\r\\nTHE RICHER MINES\\r\\n\\r\\n\\r\\nNo man is so poor but that he is a stockholder. Yet many a man has no\\r\\nreal riches; his stocks draw dividends in dollars and cents only.\\r\\n\\r\\n\\r\\n  When it comes to buying shares\\r\\n    In the mines of earth,\\r\\n  May I join the millionaires\\r\\n    Who are rich in mirth.\\r\\n\\r\\n  Let me have a heavy stake\\r\\n    In fresh mountain air--\\r\\n  I will promise now to take\\r\\n    All that you can spare.\\r\\n\\r\\n  When you\\'re setting up your claim\\r\\n    In the Mines of Glee,\\r\\n  Don\\'t forget to use my name--\\r\\n    You can count on me.\\r\\n\\r\\n  Nothing better can be won,\\r\\n    Freer from alloy,\\r\\n  Than a bouncing claim in \"Con-\\r\\n    Solidated Joy.\"\\r\\n\\r\\n  You can have your Copper Stocks\\r\\n    Gold and tin and coal--\\r\\n  What I\\'d have within my box\\r\\n    Has to do with Soul.\\r\\n\\r\\n_John Kendrick Bangs._\\r\\n\\r\\nFrom \"Songs of Cheer.\"\\r\\n\\r\\n\\r\\n\\r\\n\\r\\nBRAVE LIFE\\r\\n\\r\\n\\r\\nTo be absolutely without physical fear may not be the highest courage;\\r\\nto shrink and quake, and yet stand at one\\'s post, may be braver still.\\r\\nSo of success. It lies less in the attainment of some external end than\\r\\nin holding yourself to your purposes and ideals; for out of high loyalty\\r\\nand effort comes that intangible thing called character, which is no\\r\\nmere symbol of success, but success itself.\\r\\n\\r\\n\\r\\n  I do not know what I shall find on out beyond the final fight;\\r\\n  I do not know what I shall meet beyond the last barrage of night;\\r\\n  Nor do I care--but this I know--if I but serve within the fold\\r\\n  And play the game--I\\'ll be prepared for all the endless years may hold.\\r\\n\\r\\n  Life is a training camp at best for what may wait beyond the years;\\r\\n  A training camp of toiling days and nights that lean to dreams and tears;\\r\\n  But each may come upon the goal, and build his soul above all Fate\\r\\n  By holding an unbroken faith and taking Courage for a mate.\\r\\n\\r\\n  Is not the fight itself enough that man must look to some behest?\\r\\n  Wherein does Failure miss Success if all engaged but do their best?\\r\\n  Where does the Victor\\'s cry come in for wreath of fame or laureled brow\\r\\n  If one he vanquished fought as well as weaker muscle would allow?\\r\\n\\r\\n  If my opponent in the fray should prove to be a stronger foe--\\r\\n  Not of his making--but because the Destinies ordained it so;\\r\\n  If he should win--and I should lose--although I did my utmost part,\\r\\n  Is my reward the less than his if he should strive with equal heart?\\r\\n\\r\\n  Brave Life, I hold, is something more than driving upward to the peak;\\r\\n  Than smashing madly through the strong, and crashing onward through the\\r\\n            weak;\\r\\n  I hold the man who makes his fight against the raw game\\'s crushing odds\\r\\n  Is braver than his brothers are who hold the favor of the gods.\\r\\n\\r\\n  On by the sky line, faint and vague, in that Far Country all must know,\\r\\n  No laurel crown of fame may wait beyond the sunset\\'s glow;\\r\\n  But life has given me the chance to train and serve within the fold,\\r\\n  To meet the test--and be prepared for all the endless years may hold.\\r\\n\\r\\n\\r\\n_Grantland Rice._\\r\\n\\r\\nFrom \"The Sportlight.\"\\r\\n\\r\\n\\r\\n\\r\\n\\r\\nA SONG OF TO-MORROW\\r\\n\\r\\n\\r\\nA night\\'s sleep and a new day--these are excellent things to look\\r\\nforward to when one is weary or in trouble.\\r\\n\\r\\n\\r\\n  Li\\'l bit er trouble,\\r\\n    Honey, fer terday;\\r\\n  Yander come Termorrer--\\r\\n    Shine it all away!', mimetype='text/plain', start_char_idx=275191, end_char_idx=279297, metadata_seperator='\\n', text_template='{metadata_str}\\n\\n{content}'), score=0.45604664),\n",
       " NodeWithScore(node=TextNode(id_='830674d5-0c94-4a95-902f-db2119c73cd0', embedding=None, metadata={'file_path': '../data/pg10763.txt', 'file_name': 'pg10763.txt', 'file_type': 'text/plain', 'file_size': 405150, 'creation_date': '2025-09-19', 'last_modified_date': '2025-09-05'}, excluded_embed_metadata_keys=['file_name', 'file_type', 'file_size', 'creation_date', 'last_modified_date', 'last_accessed_date'], excluded_llm_metadata_keys=['file_name', 'file_type', 'file_size', 'creation_date', 'last_modified_date', 'last_accessed_date'], relationships={<NodeRelationship.SOURCE: '1'>: RelatedNodeInfo(node_id='../data/pg10763.txt', node_type='4', metadata={'file_path': '../data/pg10763.txt', 'file_name': 'pg10763.txt', 'file_type': 'text/plain', 'file_size': 405150, 'creation_date': '2025-09-19', 'last_modified_date': '2025-09-05'}, hash='858a9e79c3e93620378f6d9959a1333d695c67acf64e4e9ab23e4b6a89db2653'), <NodeRelationship.PREVIOUS: '2'>: RelatedNodeInfo(node_id='e635f64b-364d-4da9-b9f7-c6202f20abf3', node_type='1', metadata={'file_path': '../data/pg10763.txt', 'file_name': 'pg10763.txt', 'file_type': 'text/plain', 'file_size': 405150, 'creation_date': '2025-09-19', 'last_modified_date': '2025-09-05'}, hash='5714e3bd1a131a818feb5f026fc9b70e1a45f73026b0469eaf4ab3c903491414'), <NodeRelationship.NEXT: '3'>: RelatedNodeInfo(node_id='3e0104a2-33ac-4fdd-96fd-c86cad407456', node_type='1', metadata={}, hash='39be01092137de42539779de59df85974013a80577b408bf726ed3d32be03ed6')}, metadata_template='{key}: {value}', metadata_separator='\\n', text='Laugh like a boy at splendors that have sped,\\r\\n    To vanished joys be blind and deaf and dumb;\\r\\n  My judgments seal the dead past with its dead,\\r\\n    But never bind a moment yet to come.\\r\\n\\r\\n  Though deep in mire, wring not your hands and weep;\\r\\n    I lend my arm to all who say \"I can!\"\\r\\n  No shame-faced outcast ever sank so deep,\\r\\n    But yet might rise and be again a man!\\r\\n\\r\\n  Dost thou behold thy lost youth all aghast?\\r\\n    Dost reel from righteous Retribution\\'s blow?\\r\\n  Then turn from blotted archives of the past,\\r\\n    And find the future\\'s pages white as snow.\\r\\n\\r\\n  Art thou a mourner? Rouse thee from thy spell;\\r\\n    Art thou a sinner? Sins may be forgiven;\\r\\n  Each morning gives thee wings to flee from hell,\\r\\n    Each night a star to guide thy feet to heaven.\\r\\n\\r\\n\\r\\n_Walter Malone._\\r\\n\\r\\n\\r\\n\\r\\n\\r\\nOPPORTUNITY\\r\\n\\r\\n\\r\\nIn this poem yet another view of opportunity is presented. The recreant\\r\\nor the dreamer complains that he has no real chance. He would succeed,\\r\\nhe says, if he had but the implements of success--money, influence,\\r\\nsocial prestige, and the like. But success lies far less in implements\\r\\nthan in the use we make of them. What one man throws away as useless,\\r\\nanother man seizes as the best means of victory at hand. For every one\\r\\nof us the materials for achievement are sufficient. The spirit that\\r\\nprompts us is what ultimately counts.\\r\\n\\r\\n\\r\\n  This I beheld, or dreamed it in a dream:--\\r\\n  There spread a cloud of dust along a plain;\\r\\n  And underneath the cloud, or in it, raged\\r\\n  A furious battle, and men yelled, and swords\\r\\n  Shocked upon swords and shields. A prince\\'s banner\\r\\n  Wavered, then staggered backward, hemmed by foes.\\r\\n  A craven hung along the battle\\'s edge,\\r\\n  And thought, \"Had I a sword of keener steel--\\r\\n  That blue blade that the king\\'s son bears,--but this\\r\\n  Blunt thing--!\" he snapt and flung it from his hand,\\r\\n  And lowering crept away and left the field.\\r\\n  Then came the king\\'s son, wounded, sore bestead,\\r\\n  And weaponless, and saw the broken sword,\\r\\n  Hilt-buried in the dry and trodden sand,\\r\\n  And ran and snatched it, and with battle-shout\\r\\n  Lifted afresh he hewed his enemy down,\\r\\n  And saved a great cause that heroic day.\\r\\n\\r\\n\\r\\n_Edward Rowland Sill._\\r\\n\\r\\nFrom \"Poems.\"\\r\\n\\r\\n\\r\\n\\r\\n[Illustration: JAMES WHITCOMB RILEY]\\r\\n\\r\\n\\r\\n\\r\\n\\r\\nMY PHILOSOPHY\\r\\n\\r\\n\\r\\nThough dogs persist in barking at the moon, the moon\\'s business is not\\r\\nto answer the dogs or to waste strength placating them, but simply to\\r\\nshine. The man who strives or succeeds is sure to be criticized. Is he\\r\\ntherefore to abstain from all effort? We are responsible for our own\\r\\nlives and cannot regulate them according to other people\\'s ideas. \"Whoso\\r\\nwould be a man,\" says Emerson, \"must be a nonconformist.\"\\r\\n\\r\\n\\r\\n  I allus argy that a man\\r\\n  Who does about the best he can\\r\\n  Is plenty good enugh to suit\\r\\n  This lower mundane institute--\\r\\n  No matter ef his daily walk\\r\\n  Is subject fer his neghbor\\'s talk,\\r\\n  And critic-minds of ev\\'ry whim\\r\\n  Jest all git up and go fer him!\\r\\n\\r\\n       *       *       *       *       *\\r\\n\\r\\n  It\\'s natchurl enugh, I guess,\\r\\n  When some gits more and some gits less,\\r\\n  Fer them-uns on the slimmest side\\r\\n  To claim it ain\\'t a fare divide;\\r\\n  And I\\'ve knowed some to lay and wait,\\r\\n  And git up soon, and set up late,\\r\\n  To ketch some feller they could hate\\r\\n  For goin\\' at a faster gait.\\r\\n\\r\\n       *       *       *       *       *\\r\\n\\r\\n  My doctern is to lay aside\\r\\n  Contensions, and be satisfied:\\r\\n  Jest do your best, and praise er blame\\r\\n  That follers that, counts jest the same.\\r\\n  I\\'ve allus noticed grate success\\r\\n  Is mixed with troubles, more er less,\\r\\n  And it\\'s the man who does the best\\r\\n  That gits more kicks than all the rest.\\r\\n\\r\\n\\r\\n_James Whitcomb Riley._\\r\\n\\r\\nFrom the Biographical Edition\\r\\nOf the Complete Works of James Whitcomb Riley.\\r\\n\\r\\n\\r\\n\\r\\n\\r\\nULYSSES\\r\\n\\r\\n\\r\\nThis volume consists chiefly of contemporary or very recent verse.', mimetype='text/plain', start_char_idx=96650, end_char_idx=100531, metadata_seperator='\\n', text_template='{metadata_str}\\n\\n{content}'), score=0.43643653),\n",
       " NodeWithScore(node=TextNode(id_='4c7dae34-7f22-4b4b-a083-004be54273d7', embedding=None, metadata={'file_path': '../data/pg10763.txt', 'file_name': 'pg10763.txt', 'file_type': 'text/plain', 'file_size': 405150, 'creation_date': '2025-09-19', 'last_modified_date': '2025-09-05'}, excluded_embed_metadata_keys=['file_name', 'file_type', 'file_size', 'creation_date', 'last_modified_date', 'last_accessed_date'], excluded_llm_metadata_keys=['file_name', 'file_type', 'file_size', 'creation_date', 'last_modified_date', 'last_accessed_date'], relationships={<NodeRelationship.SOURCE: '1'>: RelatedNodeInfo(node_id='../data/pg10763.txt', node_type='4', metadata={'file_path': '../data/pg10763.txt', 'file_name': 'pg10763.txt', 'file_type': 'text/plain', 'file_size': 405150, 'creation_date': '2025-09-19', 'last_modified_date': '2025-09-05'}, hash='858a9e79c3e93620378f6d9959a1333d695c67acf64e4e9ab23e4b6a89db2653'), <NodeRelationship.PREVIOUS: '2'>: RelatedNodeInfo(node_id='9c43c2d9-c8eb-4615-969e-6f9843e7d5d2', node_type='1', metadata={'file_path': '../data/pg10763.txt', 'file_name': 'pg10763.txt', 'file_type': 'text/plain', 'file_size': 405150, 'creation_date': '2025-09-19', 'last_modified_date': '2025-09-05'}, hash='54115d8664933f85b5b55b8ad4d05d3100943a855a6b74ba1997380338cd04f4'), <NodeRelationship.NEXT: '3'>: RelatedNodeInfo(node_id='3e712da1-abfb-421a-adda-c239aca95903', node_type='1', metadata={}, hash='5cd134b170353e3259698ec093c15d87c593d95da3fa8ec097036520e9d0fc3b')}, metadata_template='{key}: {value}', metadata_separator='\\n', text='Say! Let\\'s not take it so sorely to heart!\\r\\n  Hates may be friendships just drifted apart,\\r\\n  Failure be genius not quite understood,\\r\\n  Say! Let\\'s get closer to somebody\\'s side,\\r\\n  See what his dreams are and learn how he tried,\\r\\n  See if our scoldings won\\'t give way to praise\\r\\n  One of these days.\\r\\n\\r\\n  Say! Let\\'s not wither! Let\\'s branch out and rise\\r\\n  Out of the byways and nearer the skies.\\r\\n  Let\\'s spread some shade that\\'s refreshing and deep\\r\\n  Where some tired traveler may lie down and sleep.\\r\\n  Say! Let\\'s not tarry! Let\\'s do it right now;\\r\\n  So much to do if we just find out how!\\r\\n  We may not be here to help folks or praise\\r\\n  One of these days.\\r\\n\\r\\n\\r\\n_James W. Foley._\\r\\n\\r\\nFrom \"The Voices of Song.\"\\r\\n\\r\\n\\r\\n\\r\\n[Illustration: JAMES WILLIAM FOLEY]\\r\\n\\r\\n\\r\\n\\r\\n\\r\\nGOD\\r\\n\\r\\n\\r\\nWe often think people shallow, think them incapable of anything serious\\r\\nor profound, because their work is humdrum and their speech trivial.\\r\\nSuch a judgment is unfair, since that part of our own life which shows\\r\\nitself to others is superficial likewise, though we are conscious that\\r\\nwithin us is much that it does not reveal.\\r\\n\\r\\n\\r\\n  I think about God.\\r\\n    Yet I talk of small matters.\\r\\n  Now isn\\'t it odd\\r\\n    How my idle tongue chatters!\\r\\n  Of quarrelsome neighbors,\\r\\n    Fine weather and rain,\\r\\n  Indifferent labors,\\r\\n    Indifferent pain,\\r\\n  Some trivial style\\r\\n    Fashion shifts with a nod.\\r\\n  And yet all the while\\r\\n    I am thinking of God.\\r\\n\\r\\n\\r\\n_Gamaliel Bradford._\\r\\n\\r\\nFrom \"Shadow Verses.\"\\r\\n\\r\\n\\r\\n\\r\\n\\r\\nMY TRIUMPH\\r\\n\\r\\n\\r\\nThe poet, looking back upon the hopes he has cherished, perceives that\\r\\nhe has fallen far short of achieving them. The songs he has sung are\\r\\nless sweet than those he has dreamed of singing; the wishes he has\\r\\nwrought into facts are less noble than those that are yet unfulfilled.\\r\\nBut he looks forward to the time when all that he desires for humankind\\r\\nshall yet come to pass. The praise will not be his; it will belong to\\r\\nothers. Still, he does not envy those who are destined to succeed where\\r\\nhe failed. Rather does he rejoice that through them his hopes for the\\r\\nrace will be realized. And he is happy that by longing for just such a\\r\\ntriumph he shares in it--he makes it _his_ triumph.\\r\\n\\r\\n\\r\\n  Let the thick curtain fall;\\r\\n  I better know than all\\r\\n  How little I have gained,\\r\\n  How vast the unattained.\\r\\n\\r\\n  Not by the page word-painted\\r\\n  Let life be banned or sainted:\\r\\n  Deeper than written scroll\\r\\n  The colors of the soul.\\r\\n\\r\\n  Sweeter than any sung\\r\\n  My songs that found no tongue\\r\\n  Nobler than any fact\\r\\n  My wish that failed to act.\\r\\n\\r\\n  Others shall sing the song,\\r\\n  Others shall right the wrong,--\\r\\n  Finish what I begin,\\r\\n  And all I fail of win.\\r\\n\\r\\n  What matter, I or they?\\r\\n  Mine or another\\'s day,\\r\\n  So the right word be said\\r\\n  And life the sweeter made?\\r\\n\\r\\n  Hail to the coming singers!\\r\\n  Hail to the brave light-bringers!\\r\\n  Forward I reach and share\\r\\n  All that they sing and dare.\\r\\n\\r\\n  The airs of heaven blow o\\'er me;\\r\\n  A glory shines before me\\r\\n  Of what mankind shall be,--\\r\\n  Pure, generous, brave, and free.\\r\\n\\r\\n  A dream of man and woman\\r\\n  Diviner but still human,\\r\\n  Solving the riddle old,\\r\\n  Shaping the Age of Gold!\\r\\n\\r\\n  The love of God and neighbor;\\r\\n  An equal-handed labor;\\r\\n  The richer life, where beauty\\r\\n  Walks hand in hand with duty.\\r\\n\\r\\n  Ring, bells in unreared steeples,\\r\\n  The joy of unborn peoples!\\r\\n  Sound, trumpets far off blown,\\r\\n  Your triumph is my own.\\r\\n\\r\\n  Parcel and part of all,\\r\\n  I keep the festival,\\r\\n  Fore-reach the good to be,\\r\\n  And share the victory.\\r\\n\\r\\n  I feel the earth move sunward,\\r\\n  I join the great march onward,\\r\\n  And take, by faith, while living,\\r\\n  My freehold of thanksgiving.\\r\\n\\r\\n\\r\\n_John Green leaf Whittier._\\r\\n\\r\\n\\r\\n\\r\\n\\r\\nTO ALTHEA FROM PRISON\\r\\n\\r\\n\\r\\nIn the great Civil War in England between the Puritans and Charles the\\r\\nFirst the author of this poem sacrificed everything in the royal cause.\\r\\nThat cause was defeated and Lovelace was imprisoned. In these stanzas he\\r\\nmakes the most of his gloomy situation and sings the joys of various\\r\\nkinds of freedom.', mimetype='text/plain', start_char_idx=144407, end_char_idx=148454, metadata_seperator='\\n', text_template='{metadata_str}\\n\\n{content}'), score=0.429815),\n",
       " NodeWithScore(node=TextNode(id_='15799ed1-2a92-499b-9f24-33618327aa2a', embedding=None, metadata={'file_path': '../data/pg10763.txt', 'file_name': 'pg10763.txt', 'file_type': 'text/plain', 'file_size': 405150, 'creation_date': '2025-09-19', 'last_modified_date': '2025-09-05'}, excluded_embed_metadata_keys=['file_name', 'file_type', 'file_size', 'creation_date', 'last_modified_date', 'last_accessed_date'], excluded_llm_metadata_keys=['file_name', 'file_type', 'file_size', 'creation_date', 'last_modified_date', 'last_accessed_date'], relationships={<NodeRelationship.SOURCE: '1'>: RelatedNodeInfo(node_id='../data/pg10763.txt', node_type='4', metadata={'file_path': '../data/pg10763.txt', 'file_name': 'pg10763.txt', 'file_type': 'text/plain', 'file_size': 405150, 'creation_date': '2025-09-19', 'last_modified_date': '2025-09-05'}, hash='858a9e79c3e93620378f6d9959a1333d695c67acf64e4e9ab23e4b6a89db2653'), <NodeRelationship.PREVIOUS: '2'>: RelatedNodeInfo(node_id='0a94bbd1-2594-41f8-a817-ccd84f1713ba', node_type='1', metadata={'file_path': '../data/pg10763.txt', 'file_name': 'pg10763.txt', 'file_type': 'text/plain', 'file_size': 405150, 'creation_date': '2025-09-19', 'last_modified_date': '2025-09-05'}, hash='3d5955c19801a12d8b88eb839d232e5b899f38d00a8a27c664808988facb88c3'), <NodeRelationship.NEXT: '3'>: RelatedNodeInfo(node_id='c8c77d90-349f-40f2-94df-e22549b7e8e4', node_type='1', metadata={}, hash='67e46b95c07d7f9c0a26dfda69dfabcc10aa00d97661ff1ed2d2ce0a7d7de54c')}, metadata_template='{key}: {value}', metadata_separator='\\n', text='_Anonymous._\\r\\n\\r\\n\\r\\n\\r\\n\\r\\nTHE DISAPPOINTED\\r\\n\\r\\n\\r\\nThose who have striven nobly and failed deserve sympathy. Sometimes they\\r\\ndeserve also praise unreserved, in that they have refused to do\\r\\nsomething ignoble which would have led to what the world calls success.\\r\\nThey have lived the idea which Macbeth merely proclaimed:\\r\\n\\r\\n  \"I dare do all that may become a man;\\r\\n  Who dares do more is none.\"\\r\\n\\r\\n\\r\\n  There are songs enough for the hero\\r\\n    Who dwells on the heights of fame;\\r\\n  I sing of the disappointed--\\r\\n    For those who have missed their aim.\\r\\n\\r\\n  I sing with a tearful cadence\\r\\n    For one who stands in the dark,\\r\\n  And knows that his last, best arrow\\r\\n    Has bounded back from the mark.\\r\\n\\r\\n  I sing for the breathless runner,\\r\\n    The eager, anxious soul,\\r\\n  Who falls with his strength exhausted.\\r\\n    Almost in sight of the goal;\\r\\n\\r\\n  For the hearts that break in silence,\\r\\n    With a sorrow all unknown,\\r\\n  For those who need companions,\\r\\n    Yet walk their ways alone.\\r\\n\\r\\n  There are songs enough for the lovers\\r\\n    Who share love\\'s tender pain,\\r\\n  I sing for the one whose passion\\r\\n    Is given all in vain.\\r\\n\\r\\n  For those whose spirit comrades\\r\\n    Have missed them on their way,\\r\\n  I sing, with a heart o\\'erflowing,\\r\\n    This minor strain to-day.\\r\\n\\r\\n  And I know the Solar system\\r\\n    Must somewhere keep in space\\r\\n  A prize for that spent runner\\r\\n    Who barely lost the race.\\r\\n\\r\\n  For the plan would be imperfect\\r\\n    Unless it held some sphere\\r\\n  That paid for the toil and talent\\r\\n    And love that are wasted here.\\r\\n\\r\\n\\r\\n_Ella Wheeler Wilcox._\\r\\n\\r\\nFrom \"Picked Poems.\"\\r\\n\\r\\n\\r\\n\\r\\n\\r\\nLET ME LIVE OUT MY YEARS\\r\\n\\r\\n\\r\\nWe speak of the comforts and ease of old age, but our noblest selves do\\r\\nnot really desire them. We want to do more than exist. We want to be\\r\\nalive to the very last.\\r\\n\\r\\n\\r\\n  Let me live out my years in heat of blood!\\r\\n  Let me die drunken with the dreamer\\'s wine!\\r\\n  Let me not see this soul-house built of mud\\r\\n  Go toppling to the dust--a vacant shrine!\\r\\n\\r\\n  Let me go quickly like a candle light\\r\\n  Snuffed out just at the heyday of its glow!\\r\\n  Give me high noon--and let it then be night!\\r\\n      Thus would I go.\\r\\n\\r\\n  And grant that when I face the grisly Thing,\\r\\n  My song may triumph down the gray Perhaps!\\r\\n  Let me be as a tuneswept fiddlestring\\r\\n  That feels the Master Melody--and snaps.\\r\\n\\r\\n\\r\\n_John G. Neihardt_\\r\\n\\r\\nFrom \"The Quest\" (collected lyrics).\\r\\n\\r\\n\\r\\n\\r\\n\\r\\nCOLUMBUS\\r\\n\\r\\n\\r\\nThis poem pictures courage and high resolution. To the terrors of an\\r\\nunknown sea and the mutinous dismay of the sailors Columbus has but two\\r\\nthings to oppose--his faith and his unflinching will. But these suffice,\\r\\nas they always do. In the last four lines of the poem is a lesson for\\r\\nour nation to-day. The seas upon which our ideals have launched us are\\r\\nperilous and uncharted. In some ways our whole voyage of democracy seems\\r\\nfutile. Shall we turn back, or shall we, like Columbus, answer the\\r\\nfalterers in words that leap like a leaping sword; \"Sail on, sail on\"?\\r\\n\\r\\n\\r\\n    Behind him lay the gray Azores,\\r\\n  Behind the Gates of Hercules;\\r\\n  Before him not the ghost of shores:\\r\\n  Before him only shoreless seas.\\r\\n  The good mate said: \"Now must we pray,\\r\\n  For lo! the very stars are gone.\\r\\n  Brave Adm\\'r\\'l, speak; what shall I say?\"\\r\\n  \"Why, say: \\'Sail on! sail on! and on!\\'\"\\r\\n\\r\\n    \"My men grow mutinous day by day;\\r\\n  My men grow ghastly wan and weak.\"\\r\\n  The stout mate thought of home; a spray\\r\\n  Of salt wave washed his swarthy cheek.\\r\\n  \"What shall I say, brave Adm\\'r\\'l, say,\\r\\n  If we sight naught but seas at dawn?\"\\r\\n  \"Why, you shall say at break of day:\\r\\n  \\'Sail on! sail on! sail on! and on!\\'\"\\r\\n\\r\\n    They sailed and sailed, as winds might blow;\\r\\n  Until at last the blanched mate said:\\r\\n  \"Why, now not even God would know\\r\\n  Should I and all my men fall dead.\\r\\n  These very winds forget their way,\\r\\n  For God from these dread seas is gone.\\r\\n  Now speak, brave Adm\\'r\\'l; speak and say--\"\\r\\n  He said: \"Sail on!', mimetype='text/plain', start_char_idx=195962, end_char_idx=199902, metadata_seperator='\\n', text_template='{metadata_str}\\n\\n{content}'), score=0.42069072),\n",
       " NodeWithScore(node=TextNode(id_='0d9d192c-fff5-477f-8d19-d363dbb15a13', embedding=None, metadata={'file_path': '../data/pg10763.txt', 'file_name': 'pg10763.txt', 'file_type': 'text/plain', 'file_size': 405150, 'creation_date': '2025-09-19', 'last_modified_date': '2025-09-05'}, excluded_embed_metadata_keys=['file_name', 'file_type', 'file_size', 'creation_date', 'last_modified_date', 'last_accessed_date'], excluded_llm_metadata_keys=['file_name', 'file_type', 'file_size', 'creation_date', 'last_modified_date', 'last_accessed_date'], relationships={<NodeRelationship.SOURCE: '1'>: RelatedNodeInfo(node_id='../data/pg10763.txt', node_type='4', metadata={'file_path': '../data/pg10763.txt', 'file_name': 'pg10763.txt', 'file_type': 'text/plain', 'file_size': 405150, 'creation_date': '2025-09-19', 'last_modified_date': '2025-09-05'}, hash='858a9e79c3e93620378f6d9959a1333d695c67acf64e4e9ab23e4b6a89db2653'), <NodeRelationship.PREVIOUS: '2'>: RelatedNodeInfo(node_id='a058c2c0-18e6-4b0a-a624-1b59b891d840', node_type='1', metadata={'file_path': '../data/pg10763.txt', 'file_name': 'pg10763.txt', 'file_type': 'text/plain', 'file_size': 405150, 'creation_date': '2025-09-19', 'last_modified_date': '2025-09-05'}, hash='c93522b1baedd5ff2ec7b19eaaac267713fe77c0943f490b569bec88e6678a38'), <NodeRelationship.NEXT: '3'>: RelatedNodeInfo(node_id='3728030e-d92f-436a-9135-94a28c059dde', node_type='1', metadata={}, hash='856d951cc818f61a0249519cbac1e03531b28716386fd01e69d2a860c5f62370')}, metadata_template='{key}: {value}', metadata_separator='\\n', text='To persist in them requires quiet strength and unfaltering\\r\\ncourage.\\r\\n\\r\\n\\r\\n  Did you ever want to take your two bare hands,\\r\\n    And choke out of the world your big success?\\r\\n  Beat, torn fists bleeding, pathways rugged, grand,\\r\\n    By sheer brute strength and bigness, nothing less?\\r\\n  So at the last, triumphant, battered, strong,\\r\\n    You might gaze down on what you choked and beat,\\r\\n  And say, \"Ah, world, you\\'ve wrought to do me wrong;\\r\\n    And thus have I accepted my defeat.\"\\r\\n\\r\\n  Have you ever dreamed of virile deeds, and vast,\\r\\n    And then come back from dreams with wobbly knees,\\r\\n  To find your way (the braver vision past),\\r\\n    By picking meekly at typewriter keys;\\r\\n  By bending o\\'er a ledger, day by day,\\r\\n    By some machine-like drudging? No great woe\\r\\n  To grapple with. Slow, painful is the way,\\r\\n    And still, the bravest fight and conquer so.\\r\\n\\r\\n\\r\\n_Miriam Teichner._\\r\\n\\r\\n\\r\\n\\r\\n\\r\\nHOLD FAST\\r\\n\\r\\n\\r\\nA football coach who told his players that their rivals were too strong\\r\\nfor them would be seeking a new position the next year. If the opposing\\r\\nteam is formidable, he says so; if his men have their work cut out for\\r\\nthem, he admits it; but he mentions these things as incitements to\\r\\neffort. Merely saying of victory that it can be won is among the surest\\r\\nways of winning it.\\r\\n\\r\\n\\r\\n  When you\\'re nearly drowned in trouble, and the world is dark as ink;\\r\\n    When you feel yourself a-sinking \\'neath the strain,\\r\\n  And you think, \"I\\'ve got to holler \\'Help!\\'\" just take another breath\\r\\n    And pretend you\\'ve lost your voice--and can\\'t complain!\\r\\n      (That\\'s the idea!)\\r\\n    Pretend you\\'ve lost your voice and can\\'t complain!\\r\\n\\r\\n  When the future glowers at you like a threatening thunder cloud,\\r\\n    Just grit your teeth and bend your head and say:\\r\\n  \"It\\'s dark and disagreeable and I can\\'t help feeling blue,\\r\\n    But there\\'s coming sure as fate a brighter day!\"\\r\\n      (Say it slowly!)\\r\\n    \"But there\\'s coming sure as fate, a brighter day!\"\\r\\n\\r\\n  You have bluffed your way through ticklish situations; that I know.\\r\\n    You are looking back on troubles past and gone;\\r\\n  Now, turn the tables, and as you have fought and won before,\\r\\n    Just BLUFF YOURSELF to keep on holding on!\\r\\n      (Try it once.)\\r\\n  Just bluff YOURSELF to keep on--holding on.\\r\\n\\r\\n  Don\\'t worry if the roseate hues of life are faded out,\\r\\n    Bend low before the storm and wait awhile.\\r\\n  The pendulum is bound to swing again and you will find\\r\\n    That you have not forgotten how to smile.\\r\\n      (That\\'s the truth!)\\r\\n    That you have not forgotten how to smile.\\r\\n\\r\\n\\r\\n_Everard Jack Appleton._\\r\\n\\r\\nFrom \"The Quiet Courage.\"\\r\\n\\r\\n\\r\\n\\r\\n[Illustration: JOHN KENDRICK BANGS]\\r\\n\\r\\n\\r\\n\\r\\n\\r\\nWILL\\r\\n\\r\\n\\r\\nWarren Hastings resolved in his boyhood that he would be the owner of\\r\\nthe estate known as Daylesford. This was the one great purpose that\\r\\nunified his varied and far-reaching activities. Admire him or not, we\\r\\nmust at least praise his pluck in holding to his purpose--a purpose he\\r\\nultimately attained.\\r\\n\\r\\n\\r\\n  You will be what you will to be;\\r\\n    Let failure find its false content\\r\\n  In that poor word \"environment,\"\\r\\n    But spirit scorns it, and is free.\\r\\n\\r\\n  It masters time, it conquers space,\\r\\n    It cowes that boastful trickster Chance,\\r\\n  And bids the tyrant Circumstance\\r\\n    Uncrown and fill a servant\\'s place.\\r\\n\\r\\n  The human Will, that force unseen,\\r\\n    The offspring of a deathless Soul,\\r\\n  Can hew the way to any goal,\\r\\n    Though walls of granite intervene.\\r\\n\\r\\n  Be not impatient in delay,\\r\\n    But wait as one who understands;\\r\\n  When spirit rises and commands\\r\\n    The gods are ready to obey.\\r\\n\\r\\n  The river seeking for the sea\\r\\n    Confronts the dam and precipice,\\r\\n  Yet knows it cannot fail or miss;\\r\\n    _You will be what you will to be!_\\r\\n\\r\\n\\r\\n_Ella Wheeler Wilcox._\\r\\n\\r\\nFrom \"Poems of Power.\"\\r\\n\\r\\n\\r\\n\\r\\n\\r\\nTHE GAME\\r\\n\\r\\n\\r\\nLessing said that if God should come to him with truth in one hand and\\r\\nthe never-ending pursuit of truth in the other, and should offer him his\\r\\nchoice, he would humbly and reverently take the pursuit of truth.\\r\\nPerhaps it is best that finite beings should not attain infinite\\r\\nsuccess.', mimetype='text/plain', start_char_idx=167109, end_char_idx=171213, metadata_seperator='\\n', text_template='{metadata_str}\\n\\n{content}'), score=0.416698)]"
      ]
     },
     "execution_count": 18,
     "metadata": {},
     "output_type": "execute_result"
    }
   ],
   "source": [
    "retirever.retrieve(\"What lessons can be learned from the poems about success?\")"
   ]
  },
  {
   "cell_type": "code",
   "execution_count": 19,
   "metadata": {},
   "outputs": [
    {
     "name": "stderr",
     "output_type": "stream",
     "text": [
      "2025-09-19 05:46:49,995 - INFO - HTTP Request: POST https://api.cohere.com/v2/embed \"HTTP/1.1 200 OK\"\n",
      "2025-09-19 05:46:50,064 - INFO - HTTP Request: POST https://ee73f8ce-826d-49d8-a961-754dfeac8b0c.us-east-1-1.aws.cloud.qdrant.io:6333/collections/it_can_be_done/points/search \"HTTP/1.1 200 OK\"\n"
     ]
    },
    {
     "data": {
      "text/plain": [
       "(list,\n",
       " 5,\n",
       " '_Percy Bysshe Shelley._\\r\\n\\r\\n\\r\\n\\r\\n\\r\\nVICTORY IN DEFEAT\\r\\n\\r\\n\\r\\nThe great, radiant souls of earth--the Davids, the Shakespeares, the\\r\\nLincolns--know grief and affliction as well as joy and triumph. But\\r\\nadversity is never to them mere adversity; it\\r\\n\\r\\n  \"Doth suffer a sea-change\\r\\n  Into something rich and strange\";\\r\\n\\r\\nand in the crucible of character their suffering itself is transmuted\\r\\ninto song.\\r\\n\\r\\n\\r\\n  Defeat may serve as well as victory\\r\\n  To shake the soul and let the glory out.\\r\\n  When the great oak is straining in the wind,\\r\\n  The boughs drink in new beauty, and the trunk\\r\\n  Sends down a deeper root on the windward side.\\r\\n  Only the soul that knows the mighty grief\\r\\n  Can know the mighty rapture. Sorrows come\\r\\n  To stretch out spaces in the heart for joy.\\r\\n\\r\\n\\r\\n_Edwin Markham._\\r\\n\\r\\nFrom \"The Shoes of Happiness, and Other Poems.\"\\r\\n\\r\\n\\r\\n\\r\\n\\r\\nTHE RICHER MINES\\r\\n\\r\\n\\r\\nNo man is so poor but that he is a stockholder. Yet many a man has no\\r\\nreal riches; his stocks draw dividends in dollars and cents only.\\r\\n\\r\\n\\r\\n  When it comes to buying shares\\r\\n    In the mines of earth,\\r\\n  May I join the millionaires\\r\\n    Who are rich in mirth.\\r\\n\\r\\n  Let me have a heavy stake\\r\\n    In fresh mountain air--\\r\\n  I will promise now to take\\r\\n    All that you can spare.\\r\\n\\r\\n  When you\\'re setting up your claim\\r\\n    In the Mines of Glee,\\r\\n  Don\\'t forget to use my name--\\r\\n    You can count on me.\\r\\n\\r\\n  Nothing better can be won,\\r\\n    Freer from alloy,\\r\\n  Than a bouncing claim in \"Con-\\r\\n    Solidated Joy.\"\\r\\n\\r\\n  You can have your Copper Stocks\\r\\n    Gold and tin and coal--\\r\\n  What I\\'d have within my box\\r\\n    Has to do with Soul.\\r\\n\\r\\n_John Kendrick Bangs._\\r\\n\\r\\nFrom \"Songs of Cheer.\"\\r\\n\\r\\n\\r\\n\\r\\n\\r\\nBRAVE LIFE\\r\\n\\r\\n\\r\\nTo be absolutely without physical fear may not be the highest courage;\\r\\nto shrink and quake, and yet stand at one\\'s post, may be braver still.\\r\\nSo of success. It lies less in the attainment of some external end than\\r\\nin holding yourself to your purposes and ideals; for out of high loyalty\\r\\nand effort comes that intangible thing called character, which is no\\r\\nmere symbol of success, but success itself.\\r\\n\\r\\n\\r\\n  I do not know what I shall find on out beyond the final fight;\\r\\n  I do not know what I shall meet beyond the last barrage of night;\\r\\n  Nor do I care--but this I know--if I but serve within the fold\\r\\n  And play the game--I\\'ll be prepared for all the endless years may hold.\\r\\n\\r\\n  Life is a training camp at best for what may wait beyond the years;\\r\\n  A training camp of toiling days and nights that lean to dreams and tears;\\r\\n  But each may come upon the goal, and build his soul above all Fate\\r\\n  By holding an unbroken faith and taking Courage for a mate.\\r\\n\\r\\n  Is not the fight itself enough that man must look to some behest?\\r\\n  Wherein does Failure miss Success if all engaged but do their best?\\r\\n  Where does the Victor\\'s cry come in for wreath of fame or laureled brow\\r\\n  If one he vanquished fought as well as weaker muscle would allow?\\r\\n\\r\\n  If my opponent in the fray should prove to be a stronger foe--\\r\\n  Not of his making--but because the Destinies ordained it so;\\r\\n  If he should win--and I should lose--although I did my utmost part,\\r\\n  Is my reward the less than his if he should strive with equal heart?\\r\\n\\r\\n  Brave Life, I hold, is something more than driving upward to the peak;\\r\\n  Than smashing madly through the strong, and crashing onward through the\\r\\n            weak;\\r\\n  I hold the man who makes his fight against the raw game\\'s crushing odds\\r\\n  Is braver than his brothers are who hold the favor of the gods.\\r\\n\\r\\n  On by the sky line, faint and vague, in that Far Country all must know,\\r\\n  No laurel crown of fame may wait beyond the sunset\\'s glow;\\r\\n  But life has given me the chance to train and serve within the fold,\\r\\n  To meet the test--and be prepared for all the endless years may hold.\\r\\n\\r\\n\\r\\n_Grantland Rice._\\r\\n\\r\\nFrom \"The Sportlight.\"\\r\\n\\r\\n\\r\\n\\r\\n\\r\\nA SONG OF TO-MORROW\\r\\n\\r\\n\\r\\nA night\\'s sleep and a new day--these are excellent things to look\\r\\nforward to when one is weary or in trouble.\\r\\n\\r\\n\\r\\n  Li\\'l bit er trouble,\\r\\n    Honey, fer terday;\\r\\n  Yander come Termorrer--\\r\\n    Shine it all away!')"
      ]
     },
     "execution_count": 19,
     "metadata": {},
     "output_type": "execute_result"
    }
   ],
   "source": [
    "# JC code\n",
    "result = retirever.retrieve(\"What lessons can be learned from the poems about success?\")\n",
    "type(result), len(result), result[0].node.get_content() if len(result) > 0 else \"No results found\"\n"
   ]
  },
  {
   "cell_type": "markdown",
   "metadata": {},
   "source": [
    "But, chances are you don't just want the returned documents. You want the documents to be synthesized into a response. \n",
    "\n",
    "So, let's build on this pattern in the next lesson and see how we can get a response based on those retrieved documents."
   ]
  },
  {
   "cell_type": "code",
   "execution_count": 20,
   "metadata": {},
   "outputs": [],
   "source": [
    "# close the client so you're not locked out of the index\n",
    "client.close()"
   ]
  },
  {
   "cell_type": "code",
   "execution_count": null,
   "metadata": {},
   "outputs": [],
   "source": []
  }
 ],
 "metadata": {
  "kernelspec": {
   "display_name": "Latest for LlamaIndex (LinkedIn Learning)",
   "language": "python",
   "name": "latest_lil_llama_index"
  },
  "language_info": {
   "codemirror_mode": {
    "name": "ipython",
    "version": 3
   },
   "file_extension": ".py",
   "mimetype": "text/x-python",
   "name": "python",
   "nbconvert_exporter": "python",
   "pygments_lexer": "ipython3",
   "version": "3.12.1"
  }
 },
 "nbformat": 4,
 "nbformat_minor": 2
}
